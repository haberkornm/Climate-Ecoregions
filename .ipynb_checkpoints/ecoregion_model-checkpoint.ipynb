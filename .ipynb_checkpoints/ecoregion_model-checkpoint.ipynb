{
 "cells": [
  {
   "cell_type": "code",
   "execution_count": 2,
   "id": "3097b507-869b-4242-b9ec-c45fb9af2d95",
   "metadata": {},
   "outputs": [],
   "source": [
    "import pandas as pd\n",
    "import numpy as np\n",
    "import matplotlib.pyplot as plt\n",
    "from sklearn.model_selection import train_test_split\n",
    "from sklearn.ensemble import RandomForestRegressor\n",
    "from xgboost import XGBRegressor\n",
    "import optuna"
   ]
  },
  {
   "cell_type": "markdown",
   "id": "d379da79-1bdc-451c-af09-65335858d1d5",
   "metadata": {},
   "source": [
    "# Load data"
   ]
  },
  {
   "cell_type": "code",
   "execution_count": 3,
   "id": "9c1224fb-b57c-428b-9f95-76626ea70608",
   "metadata": {},
   "outputs": [
    {
     "data": {
      "text/plain": [
       "(470342, 125)"
      ]
     },
     "execution_count": 3,
     "metadata": {},
     "output_type": "execute_result"
    }
   ],
   "source": [
    "path = r\"C:\\Users\\matta\\Desktop\\Documents\\Python\\Geolocation\\climate_data\\working_data\\clean_labeled_climate_data.pkl\"\n",
    "df = pd.read_pickle(path)\n",
    "df.shape"
   ]
  },
  {
   "cell_type": "code",
   "execution_count": 6,
   "id": "521885f1-0b55-4b0f-9057-ebe236f858cb",
   "metadata": {},
   "outputs": [],
   "source": [
    "temp_precip_cols = ['longitude', 'latitude',\n",
    "                    'jan_precip', 'feb_precip', 'mar_precip', 'apr_precip', 'may_precip', 'jun_precip', \n",
    "                    'jul_precip', 'aug_precip', 'sep_precip', 'oct_precip', 'nov_precip', 'dec_precip',  \n",
    "                    'jan_meant', 'feb_meant', 'mar_meant', 'apr_meant', 'may_meant', 'jun_meant', \n",
    "                    'jul_meant', 'aug_meant', 'sep_meant', 'oct_meant', 'nov_meant', 'dec_meant']\n",
    "select_cols = ['longitude', 'latitude', 'jan_tmin', 'jul_tmax', 'jan_dptmean', 'jul_dptmean', 'annual_precip']\n",
    "target_cols = ['Level_1', 'Level_2', 'Level_3', 'Level_4', 'ECO_NAME', 'climates_f']"
   ]
  },
  {
   "cell_type": "code",
   "execution_count": null,
   "id": "a6cb8f4f-f330-4da1-b9f5-cad8446f7b79",
   "metadata": {},
   "outputs": [],
   "source": []
  },
  {
   "cell_type": "code",
   "execution_count": null,
   "id": "07e5b8fd-eabd-4396-b046-ff42be618f8d",
   "metadata": {},
   "outputs": [],
   "source": []
  },
  {
   "cell_type": "code",
   "execution_count": null,
   "id": "52d658e8-eca0-4c42-870b-f739d1eeed0e",
   "metadata": {},
   "outputs": [],
   "source": []
  }
 ],
 "metadata": {
  "kernelspec": {
   "display_name": "Python 3 (ipykernel)",
   "language": "python",
   "name": "python3"
  },
  "language_info": {
   "codemirror_mode": {
    "name": "ipython",
    "version": 3
   },
   "file_extension": ".py",
   "mimetype": "text/x-python",
   "name": "python",
   "nbconvert_exporter": "python",
   "pygments_lexer": "ipython3",
   "version": "3.12.5"
  }
 },
 "nbformat": 4,
 "nbformat_minor": 5
}
