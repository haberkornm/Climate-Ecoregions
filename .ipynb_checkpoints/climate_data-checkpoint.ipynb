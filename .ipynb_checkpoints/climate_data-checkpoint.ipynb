{
 "cells": [
  {
   "cell_type": "code",
   "execution_count": 3,
   "id": "e806888a",
   "metadata": {},
   "outputs": [],
   "source": [
    "import rasterio\n",
    "import pandas as pd\n",
    "import numpy as np\n",
    "import zipfile\n",
    "import os"
   ]
  },
  {
   "cell_type": "markdown",
   "id": "d74218ef",
   "metadata": {},
   "source": [
    "# Extracting zip files"
   ]
  },
  {
   "cell_type": "code",
   "execution_count": 6,
   "id": "811298f9",
   "metadata": {},
   "outputs": [],
   "source": [
    "# Creating list of zip files to loop through\n",
    "working_dir = r\"C:\\Users\\matta\\Desktop\\Documents\\Python\\Geolocation\\climate_data\\climate_files\"  \n",
    "os.chdir(working_dir)\n",
    "zip_files = [f for f in os.listdir() if f.endswith('.zip')]"
   ]
  },
  {
   "cell_type": "code",
   "execution_count": 7,
   "id": "cdac8197",
   "metadata": {},
   "outputs": [],
   "source": [
    "# Extracting zip files by looping through them \n",
    "for zip_file in zip_files:\n",
    "    extract_folder = zip_file.replace('.zip', '') \n",
    "    with zipfile.ZipFile(zip_file, 'r') as zip_ref:\n",
    "        zip_ref.extractall(extract_folder)\n",
    "        print(f\"Extracted: {zip_file} → {extract_folder}\")"
   ]
  },
  {
   "cell_type": "code",
   "execution_count": 4,
   "id": "acddc511",
   "metadata": {},
   "outputs": [],
   "source": [
    "# Delete each zip file after extraction\n",
    "for zip_file in zip_files:\n",
    "    os.remove(zip_file)\n",
    "    print(f\"Deleted: {zip_file}\")"
   ]
  },
  {
   "cell_type": "markdown",
   "id": "d9d204b8",
   "metadata": {},
   "source": [
    "# .bil file extraction to pandas"
   ]
  },
  {
   "cell_type": "code",
   "execution_count": 8,
   "id": "9ff43e6f",
   "metadata": {},
   "outputs": [],
   "source": [
    "# Function for converting .bil file to a pandas dataframe\n",
    "def bil_to_df(location, column_name):\n",
    "    # Open the .bil file\n",
    "    with rasterio.open(location) as src:\n",
    "        data = src.read(1)  # Read the first band\n",
    "        transform = src.transform  # Affine transform\n",
    "\n",
    "    # Get row/col indices\n",
    "    rows, cols = np.indices(data.shape)\n",
    "\n",
    "    # Convert indices to coordinates (lon, lat)\n",
    "    xs, ys = rasterio.transform.xy(transform, rows, cols, offset='center')\n",
    "\n",
    "    # Flatten all arrays\n",
    "    flat_data = data.ravel()\n",
    "    flat_xs = np.array(xs).ravel()\n",
    "    flat_ys = np.array(ys).ravel()\n",
    "\n",
    "    # Create DataFrame\n",
    "    df = pd.DataFrame({\n",
    "        'longitude': flat_xs,\n",
    "        'latitude': flat_ys,\n",
    "        column_name: flat_data\n",
    "    })\n",
    "\n",
    "    # Filter out missing data (-9999 or nodata value)\n",
    "    df = df[df[column_name] != -9999]\n",
    "\n",
    "    return df"
   ]
  },
  {
   "cell_type": "code",
   "execution_count": 10,
   "id": "71a6a644",
   "metadata": {},
   "outputs": [
    {
     "name": "stdout",
     "output_type": "stream",
     "text": [
      "['PRISM_ppt_30yr_normal_4kmM4_all_bil', 'PRISM_soltotal_30yr_normal_4kmM3_all_bil', 'PRISM_soltrans_30yr_normal_4kmM3_all_bil', 'PRISM_tdmean_30yr_normal_4kmM5_all_bil', 'PRISM_tmax_30yr_normal_4kmM5_all_bil', 'PRISM_tmean_30yr_normal_4kmM5_all_bil', 'PRISM_tmin_30yr_normal_4kmM5_all_bil', 'PRISM_vpdmax_30yr_normal_4kmM5_all_bil', 'PRISM_vpdmin_30yr_normal_4kmM5_all_bil']\n"
     ]
    }
   ],
   "source": [
    "folder = r\"C:\\Users\\matta\\Desktop\\Documents\\Python\\Geolocation\\climate_data\\climate_files\"\n",
    "\n",
    "files = os.listdir(folder) \n",
    "print(files)"
   ]
  },
  {
   "cell_type": "markdown",
   "id": "97195e5b",
   "metadata": {},
   "source": [
    "All .bil files from https://prism.oregonstate.edu/normals/ "
   ]
  },
  {
   "cell_type": "markdown",
   "id": "c5e42fec",
   "metadata": {},
   "source": [
    "# Precipitation data"
   ]
  },
  {
   "cell_type": "code",
   "execution_count": 6,
   "id": "c6b6035f",
   "metadata": {},
   "outputs": [],
   "source": [
    "# Creating list of .bil files for looping through\n",
    "working_dir = r'C:\\Users\\matta\\OneDrive\\Documents\\Python\\Geolocation\\climate_data\\PRISM_ppt_30yr_normal_4kmM4_all_bil'\n",
    "os.chdir(working_dir)\n",
    "bil_files = [os.path.join(working_dir, f) for f in os.listdir() if f.endswith('.bil')]"
   ]
  },
  {
   "cell_type": "code",
   "execution_count": 7,
   "id": "d851af5c",
   "metadata": {},
   "outputs": [],
   "source": [
    "label_prefixs = ['jan_', 'feb_', 'mar_', 'apr_', 'may_', 'jun_', 'jul_', 'aug_', 'sep_', 'oct_', 'nov_', 'dec_', 'annual_']\n",
    "labels = [i + 'precip' for i in label_prefixs]\n",
    "\n",
    "df = bil_to_df(bil_files[0], labels[0])\n",
    "\n",
    "# Loop through the rest\n",
    "for i, j in zip(bil_files[1:], labels[1:]): \n",
    "    temp_df = bil_to_df(i, j)\n",
    "    df = df.merge(temp_df, on=['longitude', 'latitude'], how='inner')"
   ]
  },
  {
   "cell_type": "code",
   "execution_count": 8,
   "id": "12f25823",
   "metadata": {},
   "outputs": [
    {
     "data": {
      "text/html": [
       "<div>\n",
       "<style scoped>\n",
       "    .dataframe tbody tr th:only-of-type {\n",
       "        vertical-align: middle;\n",
       "    }\n",
       "\n",
       "    .dataframe tbody tr th {\n",
       "        vertical-align: top;\n",
       "    }\n",
       "\n",
       "    .dataframe thead th {\n",
       "        text-align: right;\n",
       "    }\n",
       "</style>\n",
       "<table border=\"1\" class=\"dataframe\">\n",
       "  <thead>\n",
       "    <tr style=\"text-align: right;\">\n",
       "      <th></th>\n",
       "      <th>longitude</th>\n",
       "      <th>latitude</th>\n",
       "      <th>jan_precip</th>\n",
       "      <th>feb_precip</th>\n",
       "      <th>mar_precip</th>\n",
       "      <th>apr_precip</th>\n",
       "      <th>may_precip</th>\n",
       "      <th>jun_precip</th>\n",
       "      <th>jul_precip</th>\n",
       "      <th>aug_precip</th>\n",
       "      <th>sep_precip</th>\n",
       "      <th>oct_precip</th>\n",
       "      <th>nov_precip</th>\n",
       "      <th>dec_precip</th>\n",
       "      <th>annual_precip</th>\n",
       "    </tr>\n",
       "  </thead>\n",
       "  <tbody>\n",
       "    <tr>\n",
       "      <th>39894</th>\n",
       "      <td>-102.500000</td>\n",
       "      <td>46.958333</td>\n",
       "      <td>8.329400</td>\n",
       "      <td>9.717999</td>\n",
       "      <td>15.437699</td>\n",
       "      <td>31.216000</td>\n",
       "      <td>66.096001</td>\n",
       "      <td>78.733299</td>\n",
       "      <td>61.978600</td>\n",
       "      <td>47.630497</td>\n",
       "      <td>46.385201</td>\n",
       "      <td>33.605598</td>\n",
       "      <td>13.640900</td>\n",
       "      <td>8.820700</td>\n",
       "      <td>421.593475</td>\n",
       "    </tr>\n",
       "    <tr>\n",
       "      <th>182066</th>\n",
       "      <td>-78.000000</td>\n",
       "      <td>41.625000</td>\n",
       "      <td>76.737099</td>\n",
       "      <td>59.498600</td>\n",
       "      <td>80.350098</td>\n",
       "      <td>93.014000</td>\n",
       "      <td>94.234100</td>\n",
       "      <td>104.506500</td>\n",
       "      <td>113.490601</td>\n",
       "      <td>97.594795</td>\n",
       "      <td>103.644997</td>\n",
       "      <td>99.731499</td>\n",
       "      <td>85.976295</td>\n",
       "      <td>81.959801</td>\n",
       "      <td>1090.739990</td>\n",
       "    </tr>\n",
       "    <tr>\n",
       "      <th>75791</th>\n",
       "      <td>-88.250000</td>\n",
       "      <td>45.458333</td>\n",
       "      <td>32.293800</td>\n",
       "      <td>28.748600</td>\n",
       "      <td>44.652901</td>\n",
       "      <td>72.777000</td>\n",
       "      <td>86.224800</td>\n",
       "      <td>104.045296</td>\n",
       "      <td>95.162697</td>\n",
       "      <td>80.522202</td>\n",
       "      <td>88.244499</td>\n",
       "      <td>79.854599</td>\n",
       "      <td>51.808701</td>\n",
       "      <td>40.702999</td>\n",
       "      <td>805.039490</td>\n",
       "    </tr>\n",
       "    <tr>\n",
       "      <th>404220</th>\n",
       "      <td>-110.083333</td>\n",
       "      <td>33.416667</td>\n",
       "      <td>42.919701</td>\n",
       "      <td>38.698601</td>\n",
       "      <td>28.562698</td>\n",
       "      <td>11.482100</td>\n",
       "      <td>11.066100</td>\n",
       "      <td>9.850100</td>\n",
       "      <td>65.445099</td>\n",
       "      <td>69.904297</td>\n",
       "      <td>39.875099</td>\n",
       "      <td>27.441900</td>\n",
       "      <td>24.251600</td>\n",
       "      <td>35.584801</td>\n",
       "      <td>405.083496</td>\n",
       "    </tr>\n",
       "    <tr>\n",
       "      <th>361161</th>\n",
       "      <td>-87.000000</td>\n",
       "      <td>35.208333</td>\n",
       "      <td>130.611801</td>\n",
       "      <td>140.070801</td>\n",
       "      <td>143.550690</td>\n",
       "      <td>132.645401</td>\n",
       "      <td>121.513893</td>\n",
       "      <td>125.843796</td>\n",
       "      <td>122.573196</td>\n",
       "      <td>108.573898</td>\n",
       "      <td>106.852600</td>\n",
       "      <td>95.332596</td>\n",
       "      <td>106.080498</td>\n",
       "      <td>160.072693</td>\n",
       "      <td>1493.723511</td>\n",
       "    </tr>\n",
       "  </tbody>\n",
       "</table>\n",
       "</div>"
      ],
      "text/plain": [
       "         longitude   latitude  jan_precip  feb_precip  mar_precip  apr_precip  \\\n",
       "39894  -102.500000  46.958333    8.329400    9.717999   15.437699   31.216000   \n",
       "182066  -78.000000  41.625000   76.737099   59.498600   80.350098   93.014000   \n",
       "75791   -88.250000  45.458333   32.293800   28.748600   44.652901   72.777000   \n",
       "404220 -110.083333  33.416667   42.919701   38.698601   28.562698   11.482100   \n",
       "361161  -87.000000  35.208333  130.611801  140.070801  143.550690  132.645401   \n",
       "\n",
       "        may_precip  jun_precip  jul_precip  aug_precip  sep_precip  \\\n",
       "39894    66.096001   78.733299   61.978600   47.630497   46.385201   \n",
       "182066   94.234100  104.506500  113.490601   97.594795  103.644997   \n",
       "75791    86.224800  104.045296   95.162697   80.522202   88.244499   \n",
       "404220   11.066100    9.850100   65.445099   69.904297   39.875099   \n",
       "361161  121.513893  125.843796  122.573196  108.573898  106.852600   \n",
       "\n",
       "        oct_precip  nov_precip  dec_precip  annual_precip  \n",
       "39894    33.605598   13.640900    8.820700     421.593475  \n",
       "182066   99.731499   85.976295   81.959801    1090.739990  \n",
       "75791    79.854599   51.808701   40.702999     805.039490  \n",
       "404220   27.441900   24.251600   35.584801     405.083496  \n",
       "361161   95.332596  106.080498  160.072693    1493.723511  "
      ]
     },
     "execution_count": 8,
     "metadata": {},
     "output_type": "execute_result"
    }
   ],
   "source": [
    "df.sample(5)"
   ]
  },
  {
   "cell_type": "markdown",
   "id": "f800c383",
   "metadata": {},
   "source": [
    "# Average minimum January temperature"
   ]
  },
  {
   "cell_type": "code",
   "execution_count": 9,
   "id": "0872cc86",
   "metadata": {},
   "outputs": [
    {
     "ename": "RasterioIOError",
     "evalue": "PRISM_tmin_30yr_normal_4kmM5_01_bil/PRISM_tmin_30yr_normal_4kmM5_01_bil.bil: No such file or directory",
     "output_type": "error",
     "traceback": [
      "\u001b[1;31m---------------------------------------------------------------------------\u001b[0m",
      "\u001b[1;31mCPLE_OpenFailedError\u001b[0m                      Traceback (most recent call last)",
      "File \u001b[1;32mrasterio\\\\_base.pyx:310\u001b[0m, in \u001b[0;36mrasterio._base.DatasetBase.__init__\u001b[1;34m()\u001b[0m\n",
      "File \u001b[1;32mrasterio\\\\_base.pyx:221\u001b[0m, in \u001b[0;36mrasterio._base.open_dataset\u001b[1;34m()\u001b[0m\n",
      "File \u001b[1;32mrasterio\\\\_err.pyx:359\u001b[0m, in \u001b[0;36mrasterio._err.exc_wrap_pointer\u001b[1;34m()\u001b[0m\n",
      "\u001b[1;31mCPLE_OpenFailedError\u001b[0m: PRISM_tmin_30yr_normal_4kmM5_01_bil/PRISM_tmin_30yr_normal_4kmM5_01_bil.bil: No such file or directory",
      "\nDuring handling of the above exception, another exception occurred:\n",
      "\u001b[1;31mRasterioIOError\u001b[0m                           Traceback (most recent call last)",
      "Cell \u001b[1;32mIn[9], line 5\u001b[0m\n\u001b[0;32m      2\u001b[0m location \u001b[38;5;241m=\u001b[39m \u001b[38;5;124m'\u001b[39m\u001b[38;5;124mPRISM_tmin_30yr_normal_4kmM5_01_bil/PRISM_tmin_30yr_normal_4kmM5_01_bil.bil\u001b[39m\u001b[38;5;124m'\u001b[39m\n\u001b[0;32m      4\u001b[0m \u001b[38;5;66;03m# Open the .bil file\u001b[39;00m\n\u001b[1;32m----> 5\u001b[0m \u001b[38;5;28;01mwith\u001b[39;00m \u001b[43mrasterio\u001b[49m\u001b[38;5;241;43m.\u001b[39;49m\u001b[43mopen\u001b[49m\u001b[43m(\u001b[49m\u001b[43mlocation\u001b[49m\u001b[43m)\u001b[49m \u001b[38;5;28;01mas\u001b[39;00m src:\n\u001b[0;32m      6\u001b[0m     data \u001b[38;5;241m=\u001b[39m src\u001b[38;5;241m.\u001b[39mread(\u001b[38;5;241m1\u001b[39m)  \u001b[38;5;66;03m# Read the raster values (1st band)\u001b[39;00m\n\u001b[0;32m      7\u001b[0m     transform \u001b[38;5;241m=\u001b[39m src\u001b[38;5;241m.\u001b[39mtransform  \u001b[38;5;66;03m# Affine transform to get coordinates\u001b[39;00m\n",
      "File \u001b[1;32m~\\AppData\\Local\\Programs\\Python\\Python312\\Lib\\site-packages\\rasterio\\env.py:463\u001b[0m, in \u001b[0;36mensure_env_with_credentials.<locals>.wrapper\u001b[1;34m(*args, **kwds)\u001b[0m\n\u001b[0;32m    460\u001b[0m     session \u001b[38;5;241m=\u001b[39m DummySession()\n\u001b[0;32m    462\u001b[0m \u001b[38;5;28;01mwith\u001b[39;00m env_ctor(session\u001b[38;5;241m=\u001b[39msession):\n\u001b[1;32m--> 463\u001b[0m     \u001b[38;5;28;01mreturn\u001b[39;00m \u001b[43mf\u001b[49m\u001b[43m(\u001b[49m\u001b[38;5;241;43m*\u001b[39;49m\u001b[43margs\u001b[49m\u001b[43m,\u001b[49m\u001b[43m \u001b[49m\u001b[38;5;241;43m*\u001b[39;49m\u001b[38;5;241;43m*\u001b[39;49m\u001b[43mkwds\u001b[49m\u001b[43m)\u001b[49m\n",
      "File \u001b[1;32m~\\AppData\\Local\\Programs\\Python\\Python312\\Lib\\site-packages\\rasterio\\__init__.py:368\u001b[0m, in \u001b[0;36mopen\u001b[1;34m(fp, mode, driver, width, height, count, crs, transform, dtype, nodata, sharing, opener, **kwargs)\u001b[0m\n\u001b[0;32m    365\u001b[0m     path \u001b[38;5;241m=\u001b[39m _parse_path(raw_dataset_path)\n\u001b[0;32m    367\u001b[0m \u001b[38;5;28;01mif\u001b[39;00m mode \u001b[38;5;241m==\u001b[39m \u001b[38;5;124m\"\u001b[39m\u001b[38;5;124mr\u001b[39m\u001b[38;5;124m\"\u001b[39m:\n\u001b[1;32m--> 368\u001b[0m     dataset \u001b[38;5;241m=\u001b[39m \u001b[43mDatasetReader\u001b[49m\u001b[43m(\u001b[49m\u001b[43mpath\u001b[49m\u001b[43m,\u001b[49m\u001b[43m \u001b[49m\u001b[43mdriver\u001b[49m\u001b[38;5;241;43m=\u001b[39;49m\u001b[43mdriver\u001b[49m\u001b[43m,\u001b[49m\u001b[43m \u001b[49m\u001b[43msharing\u001b[49m\u001b[38;5;241;43m=\u001b[39;49m\u001b[43msharing\u001b[49m\u001b[43m,\u001b[49m\u001b[43m \u001b[49m\u001b[38;5;241;43m*\u001b[39;49m\u001b[38;5;241;43m*\u001b[39;49m\u001b[43mkwargs\u001b[49m\u001b[43m)\u001b[49m\n\u001b[0;32m    369\u001b[0m \u001b[38;5;28;01melif\u001b[39;00m mode \u001b[38;5;241m==\u001b[39m \u001b[38;5;124m\"\u001b[39m\u001b[38;5;124mr+\u001b[39m\u001b[38;5;124m\"\u001b[39m:\n\u001b[0;32m    370\u001b[0m     dataset \u001b[38;5;241m=\u001b[39m get_writer_for_path(path, driver\u001b[38;5;241m=\u001b[39mdriver)(\n\u001b[0;32m    371\u001b[0m         path, mode, driver\u001b[38;5;241m=\u001b[39mdriver, sharing\u001b[38;5;241m=\u001b[39msharing, \u001b[38;5;241m*\u001b[39m\u001b[38;5;241m*\u001b[39mkwargs\n\u001b[0;32m    372\u001b[0m     )\n",
      "File \u001b[1;32mrasterio\\\\_base.pyx:312\u001b[0m, in \u001b[0;36mrasterio._base.DatasetBase.__init__\u001b[1;34m()\u001b[0m\n",
      "\u001b[1;31mRasterioIOError\u001b[0m: PRISM_tmin_30yr_normal_4kmM5_01_bil/PRISM_tmin_30yr_normal_4kmM5_01_bil.bil: No such file or directory"
     ]
    }
   ],
   "source": [
    "# Average minimum January temperature\n",
    "location = 'PRISM_tmin_30yr_normal_4kmM5_01_bil/PRISM_tmin_30yr_normal_4kmM5_01_bil.bil'\n",
    "\n",
    "# Open the .bil file\n",
    "with rasterio.open(location) as src:\n",
    "    data = src.read(1)  # Read the raster values (1st band)\n",
    "    transform = src.transform  # Affine transform to get coordinates\n",
    "\n",
    "# Get row/col indices\n",
    "rows, cols = np.meshgrid(np.arange(data.shape[0]), np.arange(data.shape[1]), indexing='ij')\n",
    "\n",
    "# Convert row/col to lat/lon using the affine transform\n",
    "xs, ys = rasterio.transform.xy(transform, rows, cols)\n",
    "\n",
    "# Flatten all arrays\n",
    "flat_data = data.flatten()\n",
    "flat_xs = np.array(xs).flatten()\n",
    "flat_ys = np.array(ys).flatten()\n",
    "\n",
    "# Create a DataFrame\n",
    "min_jan = pd.DataFrame({\n",
    "          'longitude': flat_xs,\n",
    "          'latitude': flat_ys,\n",
    "          'value': flat_data\n",
    "})\n",
    "\n",
    "# Remove missing data (often marked with -9999)\n",
    "min_jan = pd.DataFrame(min_jan[min_jan['value'] != -9999])\n",
    "min_jan.rename(columns = {'value' : 'avg_min_jan_temp'}, inplace = True)\n",
    "min_jan.head()"
   ]
  },
  {
   "cell_type": "markdown",
   "id": "208c01c2",
   "metadata": {},
   "source": [
    "# Average annual precipitation "
   ]
  },
  {
   "cell_type": "code",
   "execution_count": null,
   "id": "6ac8c294",
   "metadata": {},
   "outputs": [],
   "source": [
    "# Average annual precipitation \n",
    "location = 'PRISM_ppt_30yr_normal_4kmM4_annual_bil/PRISM_ppt_30yr_normal_4kmM4_annual_bil.bil'\n",
    "\n",
    "# Open the .bil file\n",
    "with rasterio.open(location) as src:\n",
    "    data = src.read(1)  # Read the raster values (1st band)\n",
    "    transform = src.transform  # Affine transform to get coordinates\n",
    "\n",
    "# Get row/col indices\n",
    "rows, cols = np.meshgrid(np.arange(data.shape[0]), np.arange(data.shape[1]), indexing='ij')\n",
    "\n",
    "# Convert row/col to lat/lon using the affine transform\n",
    "xs, ys = rasterio.transform.xy(transform, rows, cols)\n",
    "\n",
    "# Flatten all arrays\n",
    "flat_data = data.flatten()\n",
    "flat_xs = np.array(xs).flatten()\n",
    "flat_ys = np.array(ys).flatten()\n",
    "\n",
    "# Create a DataFrame\n",
    "precip = pd.DataFrame({\n",
    "          'longitude': flat_xs,\n",
    "          'latitude': flat_ys,\n",
    "          'value': flat_data\n",
    "})\n",
    "\n",
    "# Remove missing data (often marked with -9999)\n",
    "precip = pd.DataFrame(precip[precip['value'] != -9999])\n",
    "precip.rename(columns = {'value' : 'precipitation_mm'}, inplace = True)\n",
    "precip['precipitation_inches'] = precip.precipitation_mm / 25.5 \n",
    "precip.head()"
   ]
  },
  {
   "cell_type": "markdown",
   "id": "a3b7c15c",
   "metadata": {},
   "source": [
    "# Average maximum July temperature"
   ]
  },
  {
   "cell_type": "code",
   "execution_count": null,
   "id": "3ef12708",
   "metadata": {},
   "outputs": [],
   "source": [
    "# Average maximum July temperature\n",
    "location = 'PRISM_tmax_30yr_normal_4kmM5_07_bil/PRISM_tmax_30yr_normal_4kmM5_07_bil.bil'\n",
    "\n",
    "# Open the .bil file\n",
    "with rasterio.open(location) as src:\n",
    "    data = src.read(1)  # Read the raster values (1st band)\n",
    "    transform = src.transform  # Affine transform to get coordinates\n",
    "\n",
    "# Get row/col indices\n",
    "rows, cols = np.meshgrid(np.arange(data.shape[0]), np.arange(data.shape[1]), indexing='ij')\n",
    "\n",
    "# Convert row/col to lat/lon using the affine transform\n",
    "xs, ys = rasterio.transform.xy(transform, rows, cols)\n",
    "\n",
    "# Flatten all arrays\n",
    "flat_data = data.flatten()\n",
    "flat_xs = np.array(xs).flatten()\n",
    "flat_ys = np.array(ys).flatten()\n",
    "\n",
    "# Create a DataFrame\n",
    "max_jul = pd.DataFrame({\n",
    "          'longitude': flat_xs,\n",
    "          'latitude': flat_ys,\n",
    "          'value': flat_data\n",
    "})\n",
    "\n",
    "# Remove missing data (often marked with -9999)\n",
    "max_jul = pd.DataFrame(max_jul[max_jul['value'] != -9999])\n",
    "max_jul.rename(columns = {'value' : 'avg_max_july_temp'}, inplace = True)\n",
    "max_jul.head()"
   ]
  },
  {
   "cell_type": "markdown",
   "id": "8c7fd82f",
   "metadata": {},
   "source": [
    "# Evaporation"
   ]
  },
  {
   "cell_type": "code",
   "execution_count": null,
   "id": "012caf03",
   "metadata": {},
   "outputs": [],
   "source": []
  },
  {
   "cell_type": "markdown",
   "id": "0e5864a1",
   "metadata": {},
   "source": [
    "# Annual snow fall"
   ]
  },
  {
   "cell_type": "code",
   "execution_count": null,
   "id": "f593fba9",
   "metadata": {},
   "outputs": [],
   "source": []
  },
  {
   "cell_type": "code",
   "execution_count": null,
   "id": "77c09965",
   "metadata": {},
   "outputs": [],
   "source": []
  },
  {
   "cell_type": "code",
   "execution_count": null,
   "id": "af735bf9",
   "metadata": {},
   "outputs": [],
   "source": []
  }
 ],
 "metadata": {
  "kernelspec": {
   "display_name": "Python [conda env:base] *",
   "language": "python",
   "name": "conda-base-py"
  },
  "language_info": {
   "codemirror_mode": {
    "name": "ipython",
    "version": 3
   },
   "file_extension": ".py",
   "mimetype": "text/x-python",
   "name": "python",
   "nbconvert_exporter": "python",
   "pygments_lexer": "ipython3",
   "version": "3.13.5"
  }
 },
 "nbformat": 4,
 "nbformat_minor": 5
}
