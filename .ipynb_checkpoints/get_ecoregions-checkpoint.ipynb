{
 "cells": [
  {
   "cell_type": "code",
   "execution_count": 1,
   "id": "50715e97-6f47-4e5b-bab2-569c9c9dce6c",
   "metadata": {},
   "outputs": [],
   "source": [
    "import pandas as pd\n",
    "import geopandas as gpd\n",
    "from shapely.geometry import Point\n",
    "from shapely import wkt\n",
    "import numpy as np"
   ]
  },
  {
   "cell_type": "markdown",
   "id": "6e825099",
   "metadata": {
    "toc": true
   },
   "source": [
    "# Loading Ecoregion data"
   ]
  },
  {
   "cell_type": "code",
   "execution_count": 2,
   "id": "c2fbe0b2-7460-4aa4-a1ce-b1d761d1dbd1",
   "metadata": {},
   "outputs": [],
   "source": [
    "ecoregions_path = r\"C:\\Users\\matta\\Desktop\\Documents\\Python\\Geolocation\\climate_data\\working_data\\ecoregions3.csv\""
   ]
  },
  {
   "cell_type": "code",
   "execution_count": 3,
   "id": "c8eb80ba",
   "metadata": {},
   "outputs": [],
   "source": [
    "NA3 = pd.read_csv(ecoregions_path)\n",
    "NA3[\"geometry\"] = NA3[\"geometry\"].apply(wkt.loads)\n",
    "NA3 = gpd.GeoDataFrame(NA3, geometry=\"geometry\")"
   ]
  },
  {
   "cell_type": "markdown",
   "id": "3b8fd77a-ac8b-496b-9167-92dc81199d77",
   "metadata": {},
   "source": [
    "# Testing ecoregion coordinant join"
   ]
  },
  {
   "cell_type": "code",
   "execution_count": 4,
   "id": "e7d46820",
   "metadata": {},
   "outputs": [
    {
     "data": {
      "text/html": [
       "<div>\n",
       "<style scoped>\n",
       "    .dataframe tbody tr th:only-of-type {\n",
       "        vertical-align: middle;\n",
       "    }\n",
       "\n",
       "    .dataframe tbody tr th {\n",
       "        vertical-align: top;\n",
       "    }\n",
       "\n",
       "    .dataframe thead th {\n",
       "        text-align: right;\n",
       "    }\n",
       "</style>\n",
       "<table border=\"1\" class=\"dataframe\">\n",
       "  <thead>\n",
       "    <tr style=\"text-align: right;\">\n",
       "      <th></th>\n",
       "      <th>long</th>\n",
       "      <th>lat</th>\n",
       "      <th>Location</th>\n",
       "    </tr>\n",
       "  </thead>\n",
       "  <tbody>\n",
       "    <tr>\n",
       "      <th>0</th>\n",
       "      <td>-112.087098</td>\n",
       "      <td>33.494240</td>\n",
       "      <td>Phoenix</td>\n",
       "    </tr>\n",
       "    <tr>\n",
       "      <th>1</th>\n",
       "      <td>-111.571956</td>\n",
       "      <td>35.184261</td>\n",
       "      <td>Flagstaff</td>\n",
       "    </tr>\n",
       "    <tr>\n",
       "      <th>2</th>\n",
       "      <td>-109.645012</td>\n",
       "      <td>33.958546</td>\n",
       "      <td>Greer</td>\n",
       "    </tr>\n",
       "    <tr>\n",
       "      <th>3</th>\n",
       "      <td>-111.677144</td>\n",
       "      <td>35.349852</td>\n",
       "      <td>Mt. Humphrey</td>\n",
       "    </tr>\n",
       "    <tr>\n",
       "      <th>4</th>\n",
       "      <td>-105.577735</td>\n",
       "      <td>42.878875</td>\n",
       "      <td>E. Iowa</td>\n",
       "    </tr>\n",
       "  </tbody>\n",
       "</table>\n",
       "</div>"
      ],
      "text/plain": [
       "         long        lat      Location\n",
       "0 -112.087098  33.494240       Phoenix\n",
       "1 -111.571956  35.184261     Flagstaff\n",
       "2 -109.645012  33.958546         Greer\n",
       "3 -111.677144  35.349852  Mt. Humphrey\n",
       "4 -105.577735  42.878875       E. Iowa"
      ]
     },
     "execution_count": 4,
     "metadata": {},
     "output_type": "execute_result"
    }
   ],
   "source": [
    "#Create 10 points for to create dataframe for testing function\n",
    "points = [[-112.0870977, 33.4942405, 'Phoenix'], [-111.5719556, 35.1842613, 'Flagstaff'], [-109.6450123, 33.958546, 'Greer'], \n",
    "[-111.6771445, 35.3498522, 'Mt. Humphrey'], [-105.5777349, 42.8788752, 'E. Iowa'], [-106.0264983, 39.6419848, 'Silverthorne'], \n",
    "[-90.3325451, 38.4984679, 'Eureka'], [-101.9310323, 34.8903525, 'Canyon'], [-91.6049041, 43.637534, 'S. Minn'], \n",
    "[-117.5877772, 33.6247486, 'S. California'], [10.1000, 33.333, 'error']]\n",
    "\n",
    "#Make 11 points into pandas dataframe\n",
    "testdf = pd.DataFrame(points, columns = ['long', 'lat', 'Location'])\n",
    "testdf.head()"
   ]
  },
  {
   "cell_type": "code",
   "execution_count": 5,
   "id": "125482ae-a89d-422d-9418-c73ca99752af",
   "metadata": {},
   "outputs": [],
   "source": [
    "# Convert lat/long to a GeoDataFrame of points\n",
    "points_gdf = gpd.GeoDataFrame(\n",
    "    testdf,\n",
    "    geometry=gpd.points_from_xy(testdf[\"long\"], testdf[\"lat\"]),\n",
    "    crs=NA3.crs)   # use same CRS as NA3\n",
    "\n",
    "# Spatial join: assigns polygon attributes to each point\n",
    "joined = gpd.sjoin(points_gdf, NA3[[\"NA_L1KEY\", \"NA_L2KEY\", \"NA_L3KEY\", \"geometry\"]], how=\"left\", predicate=\"within\")\n",
    "\n",
    "# Now joined has Level 1–3 keys (NaN if no match)\n",
    "testdf[[\"Level_1\", \"Level_2\", \"Level_3\"]] = joined[[\"NA_L1KEY\", \"NA_L2KEY\", \"NA_L3KEY\"]]"
   ]
  },
  {
   "cell_type": "code",
   "execution_count": 6,
   "id": "9a203316-a1c5-4ede-8ba2-fd8ef41c9305",
   "metadata": {
    "scrolled": true
   },
   "outputs": [
    {
     "data": {
      "text/html": [
       "<div>\n",
       "<style scoped>\n",
       "    .dataframe tbody tr th:only-of-type {\n",
       "        vertical-align: middle;\n",
       "    }\n",
       "\n",
       "    .dataframe tbody tr th {\n",
       "        vertical-align: top;\n",
       "    }\n",
       "\n",
       "    .dataframe thead th {\n",
       "        text-align: right;\n",
       "    }\n",
       "</style>\n",
       "<table border=\"1\" class=\"dataframe\">\n",
       "  <thead>\n",
       "    <tr style=\"text-align: right;\">\n",
       "      <th></th>\n",
       "      <th>long</th>\n",
       "      <th>lat</th>\n",
       "      <th>Location</th>\n",
       "      <th>Level_1</th>\n",
       "      <th>Level_2</th>\n",
       "      <th>Level_3</th>\n",
       "    </tr>\n",
       "  </thead>\n",
       "  <tbody>\n",
       "    <tr>\n",
       "      <th>0</th>\n",
       "      <td>-112.087098</td>\n",
       "      <td>33.494240</td>\n",
       "      <td>Phoenix</td>\n",
       "      <td>10  NORTH AMERICAN DESERTS</td>\n",
       "      <td>10.2  WARM DESERTS</td>\n",
       "      <td>10.2.2  Sonoran Desert</td>\n",
       "    </tr>\n",
       "    <tr>\n",
       "      <th>1</th>\n",
       "      <td>-111.571956</td>\n",
       "      <td>35.184261</td>\n",
       "      <td>Flagstaff</td>\n",
       "      <td>13  TEMPERATE SIERRAS</td>\n",
       "      <td>13.1  UPPER GILA MOUNTAINS</td>\n",
       "      <td>13.1.1  Arizona/New Mexico Mountains</td>\n",
       "    </tr>\n",
       "    <tr>\n",
       "      <th>2</th>\n",
       "      <td>-109.645012</td>\n",
       "      <td>33.958546</td>\n",
       "      <td>Greer</td>\n",
       "      <td>13  TEMPERATE SIERRAS</td>\n",
       "      <td>13.1  UPPER GILA MOUNTAINS</td>\n",
       "      <td>13.1.1  Arizona/New Mexico Mountains</td>\n",
       "    </tr>\n",
       "    <tr>\n",
       "      <th>3</th>\n",
       "      <td>-111.677144</td>\n",
       "      <td>35.349852</td>\n",
       "      <td>Mt. Humphrey</td>\n",
       "      <td>13  TEMPERATE SIERRAS</td>\n",
       "      <td>13.1  UPPER GILA MOUNTAINS</td>\n",
       "      <td>13.1.1  Arizona/New Mexico Mountains</td>\n",
       "    </tr>\n",
       "    <tr>\n",
       "      <th>4</th>\n",
       "      <td>-105.577735</td>\n",
       "      <td>42.878875</td>\n",
       "      <td>E. Iowa</td>\n",
       "      <td>9  GREAT PLAINS</td>\n",
       "      <td>9.3  WEST-CENTRAL SEMIARID PRAIRIES</td>\n",
       "      <td>9.3.3  Northwestern Great Plains</td>\n",
       "    </tr>\n",
       "    <tr>\n",
       "      <th>5</th>\n",
       "      <td>-106.026498</td>\n",
       "      <td>39.641985</td>\n",
       "      <td>Silverthorne</td>\n",
       "      <td>6  NORTHWESTERN FORESTED MOUNTAINS</td>\n",
       "      <td>6.2  WESTERN CORDILLERA</td>\n",
       "      <td>6.2.14  Southern Rockies</td>\n",
       "    </tr>\n",
       "    <tr>\n",
       "      <th>6</th>\n",
       "      <td>-90.332545</td>\n",
       "      <td>38.498468</td>\n",
       "      <td>Eureka</td>\n",
       "      <td>8  EASTERN TEMPERATE FORESTS</td>\n",
       "      <td>8.3  SOUTHEASTERN USA PLAINS</td>\n",
       "      <td>8.3.2  Interior River Valleys and Hills</td>\n",
       "    </tr>\n",
       "    <tr>\n",
       "      <th>7</th>\n",
       "      <td>-101.931032</td>\n",
       "      <td>34.890352</td>\n",
       "      <td>Canyon</td>\n",
       "      <td>9  GREAT PLAINS</td>\n",
       "      <td>9.4  SOUTH CENTRAL SEMIARID PRAIRIES</td>\n",
       "      <td>9.4.1  High Plains</td>\n",
       "    </tr>\n",
       "    <tr>\n",
       "      <th>8</th>\n",
       "      <td>-91.604904</td>\n",
       "      <td>43.637534</td>\n",
       "      <td>S. Minn</td>\n",
       "      <td>8  EASTERN TEMPERATE FORESTS</td>\n",
       "      <td>8.1  MIXED WOOD PLAINS</td>\n",
       "      <td>8.1.5  Driftless Area</td>\n",
       "    </tr>\n",
       "    <tr>\n",
       "      <th>9</th>\n",
       "      <td>-117.587777</td>\n",
       "      <td>33.624749</td>\n",
       "      <td>S. California</td>\n",
       "      <td>11  MEDITERRANEAN CALIFORNIA</td>\n",
       "      <td>11.1  MEDITERRANEAN CALIFORNIA</td>\n",
       "      <td>11.1.1  California Coastal Sage, Chaparral, an...</td>\n",
       "    </tr>\n",
       "    <tr>\n",
       "      <th>10</th>\n",
       "      <td>10.100000</td>\n",
       "      <td>33.333000</td>\n",
       "      <td>error</td>\n",
       "      <td>NaN</td>\n",
       "      <td>NaN</td>\n",
       "      <td>NaN</td>\n",
       "    </tr>\n",
       "  </tbody>\n",
       "</table>\n",
       "</div>"
      ],
      "text/plain": [
       "          long        lat       Location                             Level_1  \\\n",
       "0  -112.087098  33.494240        Phoenix          10  NORTH AMERICAN DESERTS   \n",
       "1  -111.571956  35.184261      Flagstaff               13  TEMPERATE SIERRAS   \n",
       "2  -109.645012  33.958546          Greer               13  TEMPERATE SIERRAS   \n",
       "3  -111.677144  35.349852   Mt. Humphrey               13  TEMPERATE SIERRAS   \n",
       "4  -105.577735  42.878875        E. Iowa                     9  GREAT PLAINS   \n",
       "5  -106.026498  39.641985   Silverthorne  6  NORTHWESTERN FORESTED MOUNTAINS   \n",
       "6   -90.332545  38.498468         Eureka        8  EASTERN TEMPERATE FORESTS   \n",
       "7  -101.931032  34.890352         Canyon                     9  GREAT PLAINS   \n",
       "8   -91.604904  43.637534        S. Minn        8  EASTERN TEMPERATE FORESTS   \n",
       "9  -117.587777  33.624749  S. California        11  MEDITERRANEAN CALIFORNIA   \n",
       "10   10.100000  33.333000          error                                 NaN   \n",
       "\n",
       "                                 Level_2  \\\n",
       "0                     10.2  WARM DESERTS   \n",
       "1             13.1  UPPER GILA MOUNTAINS   \n",
       "2             13.1  UPPER GILA MOUNTAINS   \n",
       "3             13.1  UPPER GILA MOUNTAINS   \n",
       "4    9.3  WEST-CENTRAL SEMIARID PRAIRIES   \n",
       "5                6.2  WESTERN CORDILLERA   \n",
       "6           8.3  SOUTHEASTERN USA PLAINS   \n",
       "7   9.4  SOUTH CENTRAL SEMIARID PRAIRIES   \n",
       "8                 8.1  MIXED WOOD PLAINS   \n",
       "9         11.1  MEDITERRANEAN CALIFORNIA   \n",
       "10                                   NaN   \n",
       "\n",
       "                                              Level_3  \n",
       "0                              10.2.2  Sonoran Desert  \n",
       "1                13.1.1  Arizona/New Mexico Mountains  \n",
       "2                13.1.1  Arizona/New Mexico Mountains  \n",
       "3                13.1.1  Arizona/New Mexico Mountains  \n",
       "4                    9.3.3  Northwestern Great Plains  \n",
       "5                            6.2.14  Southern Rockies  \n",
       "6             8.3.2  Interior River Valleys and Hills  \n",
       "7                                  9.4.1  High Plains  \n",
       "8                               8.1.5  Driftless Area  \n",
       "9   11.1.1  California Coastal Sage, Chaparral, an...  \n",
       "10                                                NaN  "
      ]
     },
     "execution_count": 6,
     "metadata": {},
     "output_type": "execute_result"
    }
   ],
   "source": [
    "testdf"
   ]
  },
  {
   "cell_type": "markdown",
   "id": "0557421c-93d7-4c03-8cae-955471fb12f3",
   "metadata": {},
   "source": [
    "# Labeling data "
   ]
  },
  {
   "cell_type": "code",
   "execution_count": 7,
   "id": "f4ce19f3-f33d-4e75-b82a-a7204e4c3ca7",
   "metadata": {},
   "outputs": [
    {
     "data": {
      "text/plain": [
       "(481631, 119)"
      ]
     },
     "execution_count": 7,
     "metadata": {},
     "output_type": "execute_result"
    }
   ],
   "source": [
    "data_path = r\"C:\\Users\\matta\\Desktop\\Documents\\Python\\Geolocation\\climate_data\\working_data\\climate_data.pkl\"\n",
    "df = pd.read_pickle(data_path)\n",
    "df.shape"
   ]
  },
  {
   "cell_type": "code",
   "execution_count": 8,
   "id": "da18d42b-f43e-42d2-b696-030fcf8788b4",
   "metadata": {},
   "outputs": [
    {
     "data": {
      "text/html": [
       "<div>\n",
       "<style scoped>\n",
       "    .dataframe tbody tr th:only-of-type {\n",
       "        vertical-align: middle;\n",
       "    }\n",
       "\n",
       "    .dataframe tbody tr th {\n",
       "        vertical-align: top;\n",
       "    }\n",
       "\n",
       "    .dataframe thead th {\n",
       "        text-align: right;\n",
       "    }\n",
       "</style>\n",
       "<table border=\"1\" class=\"dataframe\">\n",
       "  <thead>\n",
       "    <tr style=\"text-align: right;\">\n",
       "      <th></th>\n",
       "      <th>latitude</th>\n",
       "      <th>longitude</th>\n",
       "    </tr>\n",
       "  </thead>\n",
       "  <tbody>\n",
       "    <tr>\n",
       "      <th>0</th>\n",
       "      <td>49.416667</td>\n",
       "      <td>-95.125000</td>\n",
       "    </tr>\n",
       "    <tr>\n",
       "      <th>1</th>\n",
       "      <td>49.375000</td>\n",
       "      <td>-95.166667</td>\n",
       "    </tr>\n",
       "    <tr>\n",
       "      <th>2</th>\n",
       "      <td>49.375000</td>\n",
       "      <td>-95.125000</td>\n",
       "    </tr>\n",
       "    <tr>\n",
       "      <th>3</th>\n",
       "      <td>49.375000</td>\n",
       "      <td>-95.083333</td>\n",
       "    </tr>\n",
       "    <tr>\n",
       "      <th>4</th>\n",
       "      <td>49.375000</td>\n",
       "      <td>-95.041667</td>\n",
       "    </tr>\n",
       "  </tbody>\n",
       "</table>\n",
       "</div>"
      ],
      "text/plain": [
       "    latitude  longitude\n",
       "0  49.416667 -95.125000\n",
       "1  49.375000 -95.166667\n",
       "2  49.375000 -95.125000\n",
       "3  49.375000 -95.083333\n",
       "4  49.375000 -95.041667"
      ]
     },
     "execution_count": 8,
     "metadata": {},
     "output_type": "execute_result"
    }
   ],
   "source": [
    "df[['latitude', 'longitude']].head()"
   ]
  },
  {
   "cell_type": "code",
   "execution_count": 9,
   "id": "ce570b8e-a14f-45e5-9d99-03aa257e5686",
   "metadata": {},
   "outputs": [
    {
     "data": {
      "text/plain": [
       "(481631, 122)"
      ]
     },
     "execution_count": 9,
     "metadata": {},
     "output_type": "execute_result"
    }
   ],
   "source": [
    "# Convert lat/long to a GeoDataFrame of points\n",
    "points_gdf = gpd.GeoDataFrame(\n",
    "    df,\n",
    "    geometry=gpd.points_from_xy(df[\"longitude\"], df[\"latitude\"]),\n",
    "    crs=NA3.crs)   # use same CRS as NA3\n",
    "\n",
    "# Spatial join: assigns polygon attributes to each point\n",
    "joined = gpd.sjoin(points_gdf, NA3[[\"NA_L1KEY\", \"NA_L2KEY\", \"NA_L3KEY\", \"geometry\"]], how=\"left\", predicate=\"within\")\n",
    "\n",
    "df[[\"Level_1\", \"Level_2\", \"Level_3\"]] = joined[[\"NA_L1KEY\", \"NA_L2KEY\", \"NA_L3KEY\"]]\n",
    "\n",
    "df.shape"
   ]
  },
  {
   "cell_type": "code",
   "execution_count": 10,
   "id": "76bc080b-df40-40d3-b412-27273951ba62",
   "metadata": {},
   "outputs": [
    {
     "name": "stdout",
     "output_type": "stream",
     "text": [
      "<class 'pandas.core.frame.DataFrame'>\n",
      "RangeIndex: 481631 entries, 0 to 481630\n",
      "Data columns (total 5 columns):\n",
      " #   Column     Non-Null Count   Dtype  \n",
      "---  ------     --------------   -----  \n",
      " 0   latitude   481631 non-null  float64\n",
      " 1   longitude  481631 non-null  float64\n",
      " 2   Level_1    475432 non-null  object \n",
      " 3   Level_2    475432 non-null  object \n",
      " 4   Level_3    475432 non-null  object \n",
      "dtypes: float64(2), object(3)\n",
      "memory usage: 18.4+ MB\n"
     ]
    }
   ],
   "source": [
    "df[[\"latitude\", \"longitude\", \"Level_1\", \"Level_2\", \"Level_3\"]].info()"
   ]
  },
  {
   "cell_type": "code",
   "execution_count": 11,
   "id": "873e1afb-90e2-4a70-a55f-6186f4bc33a8",
   "metadata": {},
   "outputs": [
    {
     "data": {
      "text/html": [
       "<div>\n",
       "<style scoped>\n",
       "    .dataframe tbody tr th:only-of-type {\n",
       "        vertical-align: middle;\n",
       "    }\n",
       "\n",
       "    .dataframe tbody tr th {\n",
       "        vertical-align: top;\n",
       "    }\n",
       "\n",
       "    .dataframe thead th {\n",
       "        text-align: right;\n",
       "    }\n",
       "</style>\n",
       "<table border=\"1\" class=\"dataframe\">\n",
       "  <thead>\n",
       "    <tr style=\"text-align: right;\">\n",
       "      <th></th>\n",
       "      <th>latitude</th>\n",
       "      <th>longitude</th>\n",
       "      <th>Level_1</th>\n",
       "      <th>Level_2</th>\n",
       "      <th>Level_3</th>\n",
       "    </tr>\n",
       "  </thead>\n",
       "  <tbody>\n",
       "    <tr>\n",
       "      <th>317693</th>\n",
       "      <td>36.833333</td>\n",
       "      <td>-107.833333</td>\n",
       "      <td>10  NORTH AMERICAN DESERTS</td>\n",
       "      <td>10.1  COLD DESERTS</td>\n",
       "      <td>10.1.6  Colorado Plateaus</td>\n",
       "    </tr>\n",
       "  </tbody>\n",
       "</table>\n",
       "</div>"
      ],
      "text/plain": [
       "         latitude   longitude                     Level_1             Level_2  \\\n",
       "317693  36.833333 -107.833333  10  NORTH AMERICAN DESERTS  10.1  COLD DESERTS   \n",
       "\n",
       "                          Level_3  \n",
       "317693  10.1.6  Colorado Plateaus  "
      ]
     },
     "execution_count": 11,
     "metadata": {},
     "output_type": "execute_result"
    }
   ],
   "source": [
    "df[[\"latitude\", \"longitude\", \"Level_1\", \"Level_2\", \"Level_3\"]].sample()"
   ]
  },
  {
   "cell_type": "code",
   "execution_count": 12,
   "id": "8d7de511-f98f-4cb3-9286-08eebcf72b90",
   "metadata": {},
   "outputs": [],
   "source": [
    "df.to_pickle(r\"C:\\Users\\matta\\Desktop\\Documents\\Python\\Geolocation\\climate_data\\working_data\\labeled_climate_data.pkl\")"
   ]
  },
  {
   "cell_type": "code",
   "execution_count": null,
   "id": "e90d9ac6-8ff6-49a0-9049-e46c962b4e29",
   "metadata": {},
   "outputs": [],
   "source": []
  }
 ],
 "metadata": {
  "kernelspec": {
   "display_name": "Python (geo_env)",
   "language": "python",
   "name": "geo_env"
  },
  "language_info": {
   "codemirror_mode": {
    "name": "ipython",
    "version": 3
   },
   "file_extension": ".py",
   "mimetype": "text/x-python",
   "name": "python",
   "nbconvert_exporter": "python",
   "pygments_lexer": "ipython3",
   "version": "3.13.5"
  },
  "toc": {
   "base_numbering": 1,
   "nav_menu": {},
   "number_sections": true,
   "sideBar": true,
   "skip_h1_title": false,
   "title_cell": "Table of Contents",
   "title_sidebar": "Contents",
   "toc_cell": true,
   "toc_position": {},
   "toc_section_display": true,
   "toc_window_display": false
  }
 },
 "nbformat": 4,
 "nbformat_minor": 5
}
