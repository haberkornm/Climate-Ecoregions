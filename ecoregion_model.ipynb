{
 "cells": [
  {
   "cell_type": "code",
   "execution_count": 18,
   "id": "3097b507-869b-4242-b9ec-c45fb9af2d95",
   "metadata": {},
   "outputs": [],
   "source": [
    "import pandas as pd\n",
    "import numpy as np\n",
    "import matplotlib.pyplot as plt\n",
    "from sklearn.model_selection import train_test_split\n",
    "from sklearn.ensemble import RandomForestRegressor\n",
    "from xgboost import XGBClassifier\n",
    "from sklearn.preprocessing import LabelEncoder\n",
    "from sklearn.metrics import accuracy_score, f1_score, log_loss, classification_report\n",
    "import optuna"
   ]
  },
  {
   "cell_type": "markdown",
   "id": "d379da79-1bdc-451c-af09-65335858d1d5",
   "metadata": {},
   "source": [
    "# Load data"
   ]
  },
  {
   "cell_type": "code",
   "execution_count": 3,
   "id": "9c1224fb-b57c-428b-9f95-76626ea70608",
   "metadata": {},
   "outputs": [
    {
     "data": {
      "text/plain": [
       "(470342, 125)"
      ]
     },
     "execution_count": 3,
     "metadata": {},
     "output_type": "execute_result"
    }
   ],
   "source": [
    "path = r\"C:\\Users\\matta\\Desktop\\Documents\\Python\\Geolocation\\climate_data\\working_data\\clean_labeled_climate_data.pkl\"\n",
    "df = pd.read_pickle(path)\n",
    "df.shape"
   ]
  },
  {
   "cell_type": "code",
   "execution_count": 9,
   "id": "521885f1-0b55-4b0f-9057-ebe236f858cb",
   "metadata": {},
   "outputs": [],
   "source": [
    "temp_precip_cols = ['longitude', 'latitude',\n",
    "                    'jan_precip', 'feb_precip', 'mar_precip', 'apr_precip', 'may_precip', 'jun_precip', \n",
    "                    'jul_precip', 'aug_precip', 'sep_precip', 'oct_precip', 'nov_precip', 'dec_precip',  \n",
    "                    'jan_meant', 'feb_meant', 'mar_meant', 'apr_meant', 'may_meant', 'jun_meant', \n",
    "                    'jul_meant', 'aug_meant', 'sep_meant', 'oct_meant', 'nov_meant', 'dec_meant']\n",
    "select_cols = ['longitude', 'latitude', 'jan_tmin', 'jul_maxt', 'jan_dptmean', 'jul_dptmean', 'annual_precip']\n",
    "target_cols = ['Level_1', 'Level_2', 'Level_3', 'Level_4', 'ECO_NAME', 'climates_f']"
   ]
  },
  {
   "cell_type": "markdown",
   "id": "679e5486-3b1c-4915-82fd-0fc4b9cd9300",
   "metadata": {},
   "source": [
    "# Train-test split"
   ]
  },
  {
   "cell_type": "code",
   "execution_count": 19,
   "id": "368b9357-5f7a-495b-bed0-3e03e0d06df7",
   "metadata": {},
   "outputs": [],
   "source": [
    "X = df[temp_precip_cols + ['jan_tmin', 'jul_maxt', 'jan_dptmean', 'jul_dptmean', 'annual_precip']]\n",
    "y = df.Level_1\n",
    "le = LabelEncoder()\n",
    "y_encoded = le.fit_transform(y)"
   ]
  },
  {
   "cell_type": "markdown",
   "id": "7359c67c-79d3-45b3-b08d-045a3b3e7dc1",
   "metadata": {},
   "source": [
    "# EPA Level 1"
   ]
  },
  {
   "cell_type": "code",
   "execution_count": 20,
   "id": "d6ff8dad-78a7-4177-bc91-6bc7802552b9",
   "metadata": {},
   "outputs": [],
   "source": [
    "X_train, X_test, y_train, y_test = train_test_split(X, y_encoded, test_size=0.25, stratify=y)"
   ]
  },
  {
   "cell_type": "markdown",
   "id": "bcb63a6c-a279-420c-a1f2-b856c3d5eeea",
   "metadata": {},
   "source": [
    "## XGBoost "
   ]
  },
  {
   "cell_type": "code",
   "execution_count": 21,
   "id": "07e5b8fd-eabd-4396-b046-ff42be618f8d",
   "metadata": {
    "scrolled": true
   },
   "outputs": [
    {
     "name": "stderr",
     "output_type": "stream",
     "text": [
      "[I 2025-10-28 19:54:55,150] A new study created in memory with name: no-name-5964f2d2-1629-4a70-a21c-570a05091a20\n"
     ]
    },
    {
     "data": {
      "application/vnd.jupyter.widget-view+json": {
       "model_id": "f9d2139c5e944f33926534c53401b70d",
       "version_major": 2,
       "version_minor": 0
      },
      "text/plain": [
       "  0%|          | 0/30 [00:00<?, ?it/s]"
      ]
     },
     "metadata": {},
     "output_type": "display_data"
    },
    {
     "name": "stdout",
     "output_type": "stream",
     "text": [
      "[I 2025-10-28 19:57:31,595] Trial 0 finished with value: 0.15559508132960548 and parameters: {'n_estimators': 492, 'max_depth': 3, 'learning_rate': 0.01379988169118102, 'subsample': 0.8879598787074019, 'colsample_bytree': 0.6215272658875156, 'min_child_weight': 4, 'gamma': 0.6978826568229664, 'reg_lambda': 2.686019336010744, 'reg_alpha': 0.15775030675638047}. Best is trial 0 with value: 0.15559508132960548.\n",
      "[I 2025-10-28 20:00:31,708] Trial 1 finished with value: 0.040975425717167245 and parameters: {'n_estimators': 425, 'max_depth': 10, 'learning_rate': 0.017896066993769843, 'subsample': 0.980191356435176, 'colsample_bytree': 0.9148091590539019, 'min_child_weight': 4, 'gamma': 0.325559099378006, 'reg_lambda': 4.416999887510435, 'reg_alpha': 0.34279767596086086}. Best is trial 1 with value: 0.040975425717167245.\n",
      "[I 2025-10-28 20:03:03,015] Trial 2 finished with value: 0.04303535856624583 and parameters: {'n_estimators': 487, 'max_depth': 4, 'learning_rate': 0.260949186090527, 'subsample': 0.7514347457888471, 'colsample_bytree': 0.8603652128636399, 'min_child_weight': 8, 'gamma': 1.9398654591981994, 'reg_lambda': 0.36736148601830565, 'reg_alpha': 0.8643594754528704}. Best is trial 1 with value: 0.040975425717167245.\n",
      "[I 2025-10-28 20:06:27,449] Trial 3 finished with value: 0.049832955806704986 and parameters: {'n_estimators': 561, 'max_depth': 6, 'learning_rate': 0.026166131255293906, 'subsample': 0.9172049661150142, 'colsample_bytree': 0.9761867170382788, 'min_child_weight': 3, 'gamma': 1.8160576486842053, 'reg_lambda': 2.3651300706877048, 'reg_alpha': 0.4190235767053476}. Best is trial 1 with value: 0.040975425717167245.\n",
      "[I 2025-10-28 20:10:54,916] Trial 4 finished with value: 0.06260065606442636 and parameters: {'n_estimators': 733, 'max_depth': 7, 'learning_rate': 0.010052246758501797, 'subsample': 0.8400054888266903, 'colsample_bytree': 0.998450573751031, 'min_child_weight': 7, 'gamma': 1.5262826451063334, 'reg_lambda': 3.3946383345856286, 'reg_alpha': 0.10621006235810682}. Best is trial 1 with value: 0.040975425717167245.\n",
      "[I 2025-10-28 20:14:28,693] Trial 5 finished with value: 0.036274829808070556 and parameters: {'n_estimators': 568, 'max_depth': 8, 'learning_rate': 0.0346060793879016, 'subsample': 0.6576233197871215, 'colsample_bytree': 0.7141852221561255, 'min_child_weight': 10, 'gamma': 0.9627130502654968, 'reg_lambda': 2.037443909136155, 'reg_alpha': 0.29905794285476006}. Best is trial 5 with value: 0.036274829808070556.\n",
      "[I 2025-10-28 20:17:13,925] Trial 6 finished with value: 0.03217334458937797 and parameters: {'n_estimators': 593, 'max_depth': 11, 'learning_rate': 0.2126259765447332, 'subsample': 0.6930884821502451, 'colsample_bytree': 0.8848811769333002, 'min_child_weight': 10, 'gamma': 0.9963094607521408, 'reg_lambda': 2.946052061069745, 'reg_alpha': 0.3324343710021631}. Best is trial 6 with value: 0.03217334458937797.\n",
      "[I 2025-10-28 20:21:00,702] Trial 7 finished with value: 0.03931672848842889 and parameters: {'n_estimators': 546, 'max_depth': 11, 'learning_rate': 0.013051183037142639, 'subsample': 0.7360820334170937, 'colsample_bytree': 0.7128936390071201, 'min_child_weight': 4, 'gamma': 0.804947702250338, 'reg_lambda': 2.9698312196564394, 'reg_alpha': 0.1382690608175956}. Best is trial 6 with value: 0.03217334458937797.\n",
      "[I 2025-10-28 20:23:49,381] Trial 8 finished with value: 0.08435866060064806 and parameters: {'n_estimators': 495, 'max_depth': 5, 'learning_rate': 0.016622188437175087, 'subsample': 0.7745266399326586, 'colsample_bytree': 0.824008475249742, 'min_child_weight': 7, 'gamma': 0.8118660573219068, 'reg_lambda': 4.526078997364758, 'reg_alpha': 0.4924696367773185}. Best is trial 6 with value: 0.03217334458937797.\n",
      "[I 2025-10-28 20:28:13,464] Trial 9 finished with value: 0.03692504895835512 and parameters: {'n_estimators': 698, 'max_depth': 6, 'learning_rate': 0.03672511646618634, 'subsample': 0.7704217412163131, 'colsample_bytree': 0.8961992108245302, 'min_child_weight': 6, 'gamma': 0.6624237450165722, 'reg_lambda': 1.9531292125868291, 'reg_alpha': 0.36799611863989623}. Best is trial 6 with value: 0.03217334458937797.\n",
      "[I 2025-10-28 20:29:33,845] Trial 10 finished with value: 0.03481307521375241 and parameters: {'n_estimators': 259, 'max_depth': 12, 'learning_rate': 0.1574719821345058, 'subsample': 0.6095055858663896, 'colsample_bytree': 0.750219449064253, 'min_child_weight': 10, 'gamma': 1.2854001019272387, 'reg_lambda': 1.0171640186856932, 'reg_alpha': 0.7990462574702455}. Best is trial 6 with value: 0.03217334458937797.\n",
      "[I 2025-10-28 20:30:43,956] Trial 11 finished with value: 0.03556269011231245 and parameters: {'n_estimators': 228, 'max_depth': 12, 'learning_rate': 0.17680787353362712, 'subsample': 0.6155787372944469, 'colsample_bytree': 0.7493585632148849, 'min_child_weight': 10, 'gamma': 1.4169470938702935, 'reg_lambda': 0.8098597779976697, 'reg_alpha': 0.8125824620642448}. Best is trial 6 with value: 0.03217334458937797.\n",
      "[I 2025-10-28 20:31:59,049] Trial 12 finished with value: 0.03557007944649529 and parameters: {'n_estimators': 202, 'max_depth': 9, 'learning_rate': 0.10355509046919416, 'subsample': 0.6781265009975668, 'colsample_bytree': 0.7885120844026461, 'min_child_weight': 1, 'gamma': 1.233408823316083, 'reg_lambda': 1.2287930604977617, 'reg_alpha': 0.6365085099757977}. Best is trial 6 with value: 0.03217334458937797.\n",
      "[I 2025-10-28 20:33:56,673] Trial 13 finished with value: 0.03514893644254756 and parameters: {'n_estimators': 362, 'max_depth': 12, 'learning_rate': 0.09073805498306908, 'subsample': 0.6024545513657963, 'colsample_bytree': 0.6556556829686093, 'min_child_weight': 9, 'gamma': 1.168196255425496, 'reg_lambda': 3.734675388450716, 'reg_alpha': 0.6713789548471645}. Best is trial 6 with value: 0.03217334458937797.\n",
      "[I 2025-10-28 20:37:23,518] Trial 14 finished with value: 0.029421676691682976 and parameters: {'n_estimators': 643, 'max_depth': 10, 'learning_rate': 0.2988688446111755, 'subsample': 0.686166612504343, 'colsample_bytree': 0.8080541305143475, 'min_child_weight': 9, 'gamma': 0.31048175374056874, 'reg_lambda': 1.4777576057179114, 'reg_alpha': 0.9918736833266022}. Best is trial 14 with value: 0.029421676691682976.\n",
      "[I 2025-10-28 20:42:01,112] Trial 15 finished with value: 0.031246668194367663 and parameters: {'n_estimators': 640, 'max_depth': 9, 'learning_rate': 0.28636287944951455, 'subsample': 0.6963010075753587, 'colsample_bytree': 0.843048612764467, 'min_child_weight': 8, 'gamma': 0.014476725417549796, 'reg_lambda': 1.498559820369637, 'reg_alpha': 0.643930994096239}. Best is trial 14 with value: 0.029421676691682976.\n",
      "[I 2025-10-28 20:47:35,968] Trial 16 finished with value: 0.031142122506282247 and parameters: {'n_estimators': 798, 'max_depth': 9, 'learning_rate': 0.2939343799605832, 'subsample': 0.722871602427898, 'colsample_bytree': 0.8321286528808758, 'min_child_weight': 8, 'gamma': 0.012944067500074617, 'reg_lambda': 1.4784033423275305, 'reg_alpha': 0.9717571143251873}. Best is trial 14 with value: 0.029421676691682976.\n",
      "[I 2025-10-28 20:52:02,043] Trial 17 finished with value: 0.02838838980283512 and parameters: {'n_estimators': 786, 'max_depth': 9, 'learning_rate': 0.11060016160671757, 'subsample': 0.8200154932725825, 'colsample_bytree': 0.8030837622265806, 'min_child_weight': 6, 'gamma': 0.1786497294747743, 'reg_lambda': 1.7383402633848823, 'reg_alpha': 0.948607696501655}. Best is trial 17 with value: 0.02838838980283512.\n",
      "[I 2025-10-28 20:55:54,649] Trial 18 finished with value: 0.030840886611797673 and parameters: {'n_estimators': 768, 'max_depth': 8, 'learning_rate': 0.07117777130992362, 'subsample': 0.824813967685454, 'colsample_bytree': 0.77904862195992, 'min_child_weight': 6, 'gamma': 0.5020385871242945, 'reg_lambda': 0.3140597758845647, 'reg_alpha': 0.9932402768402245}. Best is trial 17 with value: 0.02838838980283512.\n",
      "[I 2025-10-28 20:59:03,086] Trial 19 finished with value: 0.029200354989212782 and parameters: {'n_estimators': 683, 'max_depth': 10, 'learning_rate': 0.12783720692092146, 'subsample': 0.8881146184459262, 'colsample_bytree': 0.9518449060594791, 'min_child_weight': 1, 'gamma': 0.3032717249264929, 'reg_lambda': 1.9313788959436697, 'reg_alpha': 0.8994076142961231}. Best is trial 17 with value: 0.02838838980283512.\n",
      "[I 2025-10-28 21:02:44,465] Trial 20 finished with value: 0.028772040492112117 and parameters: {'n_estimators': 712, 'max_depth': 7, 'learning_rate': 0.12024912310653017, 'subsample': 0.8851179577559771, 'colsample_bytree': 0.9437324925820961, 'min_child_weight': 2, 'gamma': 0.2353204899555678, 'reg_lambda': 2.1271583300256682, 'reg_alpha': 0.7407565929794645}. Best is trial 17 with value: 0.02838838980283512.\n",
      "[I 2025-10-28 21:05:56,381] Trial 21 finished with value: 0.02883453570378249 and parameters: {'n_estimators': 690, 'max_depth': 10, 'learning_rate': 0.12148632158250773, 'subsample': 0.891398508823221, 'colsample_bytree': 0.9489968596421501, 'min_child_weight': 1, 'gamma': 0.26678234508950927, 'reg_lambda': 1.9022750587308395, 'reg_alpha': 0.8709203842159764}. Best is trial 17 with value: 0.02838838980283512.\n",
      "[I 2025-10-28 21:10:18,386] Trial 22 finished with value: 0.02994893232993797 and parameters: {'n_estimators': 738, 'max_depth': 7, 'learning_rate': 0.0555843374202082, 'subsample': 0.9500720740179193, 'colsample_bytree': 0.9481976491550581, 'min_child_weight': 2, 'gamma': 0.20884295828899874, 'reg_lambda': 2.300176413998016, 'reg_alpha': 0.738587425650726}. Best is trial 17 with value: 0.02838838980283512.\n",
      "[I 2025-10-28 21:13:43,190] Trial 23 finished with value: 0.030527462807198855 and parameters: {'n_estimators': 683, 'max_depth': 8, 'learning_rate': 0.07722144679722817, 'subsample': 0.8491894193491943, 'colsample_bytree': 0.9229277971725152, 'min_child_weight': 2, 'gamma': 0.49650669044752016, 'reg_lambda': 1.8004236722947287, 'reg_alpha': 0.7230455160537601}. Best is trial 17 with value: 0.02838838980283512.\n",
      "[I 2025-10-28 21:17:33,780] Trial 24 finished with value: 0.02876855367902346 and parameters: {'n_estimators': 631, 'max_depth': 6, 'learning_rate': 0.12819373990000277, 'subsample': 0.8744577166003114, 'colsample_bytree': 0.863965186074449, 'min_child_weight': 5, 'gamma': 0.16964973566703423, 'reg_lambda': 2.5962557284738392, 'reg_alpha': 0.5817267783014884}. Best is trial 17 with value: 0.02838838980283512.\n",
      "[I 2025-10-28 21:21:20,064] Trial 25 finished with value: 0.033437885402085615 and parameters: {'n_estimators': 614, 'max_depth': 6, 'learning_rate': 0.061127857526494064, 'subsample': 0.8570298563065553, 'colsample_bytree': 0.8655921116655005, 'min_child_weight': 5, 'gamma': 0.502353712020892, 'reg_lambda': 3.4271439352211885, 'reg_alpha': 0.571072902087825}. Best is trial 17 with value: 0.02838838980283512.\n",
      "[I 2025-10-28 21:26:05,374] Trial 26 finished with value: 0.028906692301661676 and parameters: {'n_estimators': 800, 'max_depth': 5, 'learning_rate': 0.17441094742829472, 'subsample': 0.8060343461223661, 'colsample_bytree': 0.8821037515468394, 'min_child_weight': 5, 'gamma': 0.13390797520790076, 'reg_lambda': 2.611182917142335, 'reg_alpha': 0.5468604736137701}. Best is trial 17 with value: 0.02838838980283512.\n",
      "[I 2025-10-28 21:29:38,587] Trial 27 finished with value: 0.03146030121970998 and parameters: {'n_estimators': 741, 'max_depth': 7, 'learning_rate': 0.12796928651928957, 'subsample': 0.9289078306698708, 'colsample_bytree': 0.912264334729058, 'min_child_weight': 3, 'gamma': 0.42975136194726304, 'reg_lambda': 3.9313783795158965, 'reg_alpha': 0.7603270759007951}. Best is trial 17 with value: 0.02838838980283512.\n",
      "[I 2025-10-28 21:33:32,854] Trial 28 finished with value: 0.043935567238382024 and parameters: {'n_estimators': 638, 'max_depth': 5, 'learning_rate': 0.041686637745838716, 'subsample': 0.9837530868844812, 'colsample_bytree': 0.7642944717949557, 'min_child_weight': 5, 'gamma': 0.14401054912159822, 'reg_lambda': 3.08992758499775, 'reg_alpha': 0.019504264545987082}. Best is trial 17 with value: 0.02838838980283512.\n",
      "[I 2025-10-28 21:37:17,754] Trial 29 finished with value: 0.0492090368744962 and parameters: {'n_estimators': 717, 'max_depth': 3, 'learning_rate': 0.08374779389429601, 'subsample': 0.8787747869764289, 'colsample_bytree': 0.6159329661808632, 'min_child_weight': 3, 'gamma': 0.7172251860176568, 'reg_lambda': 2.559272293174029, 'reg_alpha': 0.47582812520203305}. Best is trial 17 with value: 0.02838838980283512.\n",
      "Best Trial:\n",
      "  Log Loss: 0.0284\n",
      "  Best Params:\n",
      "    n_estimators: 786\n",
      "    max_depth: 9\n",
      "    learning_rate: 0.11060016160671757\n",
      "    subsample: 0.8200154932725825\n",
      "    colsample_bytree: 0.8030837622265806\n",
      "    min_child_weight: 6\n",
      "    gamma: 0.1786497294747743\n",
      "    reg_lambda: 1.7383402633848823\n",
      "    reg_alpha: 0.948607696501655\n"
     ]
    }
   ],
   "source": [
    "# Define Optuna objective function\n",
    "def objective(trial):\n",
    "    params = {\n",
    "        \"n_estimators\": trial.suggest_int(\"n_estimators\", 200, 800),\n",
    "        \"max_depth\": trial.suggest_int(\"max_depth\", 3, 12),\n",
    "        \"learning_rate\": trial.suggest_float(\"learning_rate\", 0.01, 0.3, log=True),\n",
    "        \"subsample\": trial.suggest_float(\"subsample\", 0.6, 1.0),\n",
    "        \"colsample_bytree\": trial.suggest_float(\"colsample_bytree\", 0.6, 1.0),\n",
    "        \"min_child_weight\": trial.suggest_int(\"min_child_weight\", 1, 10),\n",
    "        \"gamma\": trial.suggest_float(\"gamma\", 0, 2.0),\n",
    "        \"reg_lambda\": trial.suggest_float(\"reg_lambda\", 0.1, 5.0),\n",
    "        \"reg_alpha\": trial.suggest_float(\"reg_alpha\", 0.0, 1.0),\n",
    "        \"tree_method\": \"hist\",\n",
    "        \"objective\": \"multi:softprob\",\n",
    "        \"num_class\": len(np.unique(y_train)),\n",
    "        \"random_state\": 42,\n",
    "        \"eval_metric\": \"mlogloss\",\n",
    "        \"n_jobs\": -1\n",
    "    }\n",
    "\n",
    "    model = XGBClassifier(**params)\n",
    "\n",
    "    model.fit(X_train, y_train,\n",
    "              eval_set=[(X_test, y_test)],\n",
    "              verbose=False)\n",
    "\n",
    "    # Predict probabilities\n",
    "    y_pred_proba = model.predict_proba(X_test)\n",
    "    y_pred = model.predict(X_test)\n",
    "\n",
    "    # Evaluate performance\n",
    "    logloss = log_loss(y_test, y_pred_proba)\n",
    "    f1_macro = f1_score(y_test, y_pred, average=\"macro\")\n",
    "\n",
    "    # We minimize logloss but can return a combined objective\n",
    "    # Optuna always minimizes, so we can return logloss or -f1 to maximize f1\n",
    "    return logloss\n",
    "\n",
    "# Run Optuna study\n",
    "study = optuna.create_study(direction=\"minimize\")\n",
    "study.optimize(objective, n_trials=30, show_progress_bar=True)\n",
    "\n",
    "# Best trial summary\n",
    "print(\"Best Trial:\")\n",
    "print(f\"  Log Loss: {study.best_value:.4f}\")\n",
    "print(\"  Best Params:\")\n",
    "for key, value in study.best_params.items():\n",
    "    print(f\"    {key}: {value}\")"
   ]
  },
  {
   "cell_type": "code",
   "execution_count": 22,
   "id": "52d658e8-eca0-4c42-870b-f739d1eeed0e",
   "metadata": {},
   "outputs": [
    {
     "name": "stdout",
     "output_type": "stream",
     "text": [
      "\n",
      "Classification Report:\n",
      "              precision    recall  f1-score   support\n",
      "\n",
      "           0       0.99      0.99      0.99     21142\n",
      "           1       0.98      0.98      0.98      2375\n",
      "           2       0.95      0.98      0.96       590\n",
      "           3       0.95      0.95      0.95      1534\n",
      "           4       0.98      1.00      0.99       275\n",
      "           5       0.98      0.98      0.98      6044\n",
      "           6       0.98      0.97      0.98     13191\n",
      "           7       0.98      0.97      0.97      1399\n",
      "           8       0.99      0.99      0.99     36770\n",
      "           9       0.99      0.99      0.99     34266\n",
      "\n",
      "    accuracy                           0.99    117586\n",
      "   macro avg       0.98      0.98      0.98    117586\n",
      "weighted avg       0.99      0.99      0.99    117586\n",
      "\n",
      "\n",
      "✅ Final Accuracy: 0.989\n",
      "✅ Final F1 (macro): 0.979\n",
      "✅ Final Log Loss: 0.028\n"
     ]
    }
   ],
   "source": [
    "# Retrain final model with best params\n",
    "best_params = study.best_params\n",
    "best_model = XGBClassifier(\n",
    "    **best_params,\n",
    "    objective=\"multi:softprob\",\n",
    "    num_class=len(np.unique(y_train)),\n",
    "    eval_metric=\"mlogloss\",\n",
    "    tree_method=\"hist\",\n",
    "    random_state=42,\n",
    "    n_jobs=-1\n",
    ")\n",
    "\n",
    "best_model.fit(X_train, y_train)\n",
    "\n",
    "# Evaluate final model\n",
    "y_pred = best_model.predict(X_test)\n",
    "y_pred_proba = best_model.predict_proba(X_test)\n",
    "\n",
    "print(\"\\nClassification Report:\")\n",
    "print(classification_report(y_test, y_pred))\n",
    "\n",
    "acc = accuracy_score(y_test, y_pred)\n",
    "f1_macro = f1_score(y_test, y_pred, average=\"macro\")\n",
    "ll = log_loss(y_test, y_pred_proba)\n",
    "\n",
    "print(f\"\\n✅ Final Accuracy: {acc:.3f}\")\n",
    "print(f\"✅ Final F1 (macro): {f1_macro:.3f}\")\n",
    "print(f\"✅ Final Log Loss: {ll:.3f}\")"
   ]
  },
  {
   "cell_type": "code",
   "execution_count": null,
   "id": "aa777280-a3d6-4df5-8dff-394f51c827dc",
   "metadata": {},
   "outputs": [],
   "source": []
  }
 ],
 "metadata": {
  "kernelspec": {
   "display_name": "Python 3 (ipykernel)",
   "language": "python",
   "name": "python3"
  },
  "language_info": {
   "codemirror_mode": {
    "name": "ipython",
    "version": 3
   },
   "file_extension": ".py",
   "mimetype": "text/x-python",
   "name": "python",
   "nbconvert_exporter": "python",
   "pygments_lexer": "ipython3",
   "version": "3.12.5"
  }
 },
 "nbformat": 4,
 "nbformat_minor": 5
}
