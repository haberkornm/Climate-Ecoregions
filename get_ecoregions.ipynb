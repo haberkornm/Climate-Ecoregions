{
 "cells": [
  {
   "cell_type": "code",
   "execution_count": 1,
   "id": "50715e97-6f47-4e5b-bab2-569c9c9dce6c",
   "metadata": {},
   "outputs": [],
   "source": [
    "import pandas as pd\n",
    "import geopandas as gpd\n",
    "from shapely.geometry import Point\n",
    "from shapely import wkt, wkb\n",
    "import numpy as np"
   ]
  },
  {
   "cell_type": "markdown",
   "id": "6e825099",
   "metadata": {
    "toc": true
   },
   "source": [
    "# Loading Ecoregion data"
   ]
  },
  {
   "cell_type": "code",
   "execution_count": 2,
   "id": "c8eb80ba",
   "metadata": {},
   "outputs": [],
   "source": [
    "ecoregions_path = r\"C:\\Users\\matta\\Desktop\\Documents\\Python\\Geolocation\\climate_data\\working_data\\ecoregions3.csv\"\n",
    "NA3 = pd.read_csv(ecoregions_path)\n",
    "NA3[\"geometry\"] = NA3[\"geometry\"].apply(wkt.loads)\n",
    "NA3 = gpd.GeoDataFrame(NA3, geometry=\"geometry\")"
   ]
  },
  {
   "cell_type": "markdown",
   "id": "3b8fd77a-ac8b-496b-9167-92dc81199d77",
   "metadata": {},
   "source": [
    "# Testing ecoregion coordinant join"
   ]
  },
  {
   "cell_type": "code",
   "execution_count": 3,
   "id": "e7d46820",
   "metadata": {},
   "outputs": [
    {
     "data": {
      "text/html": [
       "<div>\n",
       "<style scoped>\n",
       "    .dataframe tbody tr th:only-of-type {\n",
       "        vertical-align: middle;\n",
       "    }\n",
       "\n",
       "    .dataframe tbody tr th {\n",
       "        vertical-align: top;\n",
       "    }\n",
       "\n",
       "    .dataframe thead th {\n",
       "        text-align: right;\n",
       "    }\n",
       "</style>\n",
       "<table border=\"1\" class=\"dataframe\">\n",
       "  <thead>\n",
       "    <tr style=\"text-align: right;\">\n",
       "      <th></th>\n",
       "      <th>long</th>\n",
       "      <th>lat</th>\n",
       "      <th>Location</th>\n",
       "    </tr>\n",
       "  </thead>\n",
       "  <tbody>\n",
       "    <tr>\n",
       "      <th>0</th>\n",
       "      <td>-112.087098</td>\n",
       "      <td>33.494240</td>\n",
       "      <td>Phoenix</td>\n",
       "    </tr>\n",
       "    <tr>\n",
       "      <th>1</th>\n",
       "      <td>-111.571956</td>\n",
       "      <td>35.184261</td>\n",
       "      <td>Flagstaff</td>\n",
       "    </tr>\n",
       "    <tr>\n",
       "      <th>2</th>\n",
       "      <td>-109.645012</td>\n",
       "      <td>33.958546</td>\n",
       "      <td>Greer</td>\n",
       "    </tr>\n",
       "    <tr>\n",
       "      <th>3</th>\n",
       "      <td>-111.677144</td>\n",
       "      <td>35.349852</td>\n",
       "      <td>Mt. Humphrey</td>\n",
       "    </tr>\n",
       "    <tr>\n",
       "      <th>4</th>\n",
       "      <td>-105.577735</td>\n",
       "      <td>42.878875</td>\n",
       "      <td>E. Iowa</td>\n",
       "    </tr>\n",
       "  </tbody>\n",
       "</table>\n",
       "</div>"
      ],
      "text/plain": [
       "         long        lat      Location\n",
       "0 -112.087098  33.494240       Phoenix\n",
       "1 -111.571956  35.184261     Flagstaff\n",
       "2 -109.645012  33.958546         Greer\n",
       "3 -111.677144  35.349852  Mt. Humphrey\n",
       "4 -105.577735  42.878875       E. Iowa"
      ]
     },
     "execution_count": 3,
     "metadata": {},
     "output_type": "execute_result"
    }
   ],
   "source": [
    "#Create 10 points for to create dataframe for testing function\n",
    "points = [[-112.0870977, 33.4942405, 'Phoenix'], [-111.5719556, 35.1842613, 'Flagstaff'], [-109.6450123, 33.958546, 'Greer'], \n",
    "[-111.6771445, 35.3498522, 'Mt. Humphrey'], [-105.5777349, 42.8788752, 'E. Iowa'], [-106.0264983, 39.6419848, 'Silverthorne'], \n",
    "[-90.3325451, 38.4984679, 'Eureka'], [-101.9310323, 34.8903525, 'Canyon'], [-91.6049041, 43.637534, 'S. Minn'], \n",
    "[-117.5877772, 33.6247486, 'S. California'], [10.1000, 33.333, 'error']]\n",
    "\n",
    "#Make 11 points into pandas dataframe\n",
    "testdf = pd.DataFrame(points, columns = ['long', 'lat', 'Location'])\n",
    "testdf.head()"
   ]
  },
  {
   "cell_type": "code",
   "execution_count": 4,
   "id": "125482ae-a89d-422d-9418-c73ca99752af",
   "metadata": {},
   "outputs": [],
   "source": [
    "# Convert lat/long to a GeoDataFrame of points\n",
    "points_gdf = gpd.GeoDataFrame(\n",
    "    testdf,\n",
    "    geometry=gpd.points_from_xy(testdf[\"long\"], testdf[\"lat\"]),\n",
    "    crs=NA3.crs)   # use same CRS as NA3\n",
    "\n",
    "# Spatial join: assigns polygon attributes to each point\n",
    "joined = gpd.sjoin(points_gdf, NA3[[\"NA_L1KEY\", \"NA_L2KEY\", \"NA_L3KEY\", \"geometry\"]], how=\"left\", predicate=\"within\")\n",
    "\n",
    "# Now joined has Level 1–3 keys (NaN if no match)\n",
    "testdf[[\"Level_1\", \"Level_2\", \"Level_3\"]] = joined[[\"NA_L1KEY\", \"NA_L2KEY\", \"NA_L3KEY\"]]"
   ]
  },
  {
   "cell_type": "code",
   "execution_count": 5,
   "id": "1d218c5d-ee8d-4356-a266-960ec873bf31",
   "metadata": {},
   "outputs": [
    {
     "data": {
      "text/html": [
       "<div>\n",
       "<style scoped>\n",
       "    .dataframe tbody tr th:only-of-type {\n",
       "        vertical-align: middle;\n",
       "    }\n",
       "\n",
       "    .dataframe tbody tr th {\n",
       "        vertical-align: top;\n",
       "    }\n",
       "\n",
       "    .dataframe thead th {\n",
       "        text-align: right;\n",
       "    }\n",
       "</style>\n",
       "<table border=\"1\" class=\"dataframe\">\n",
       "  <thead>\n",
       "    <tr style=\"text-align: right;\">\n",
       "      <th></th>\n",
       "      <th>long</th>\n",
       "      <th>lat</th>\n",
       "      <th>Location</th>\n",
       "      <th>Level_1</th>\n",
       "      <th>Level_2</th>\n",
       "      <th>Level_3</th>\n",
       "    </tr>\n",
       "  </thead>\n",
       "  <tbody>\n",
       "    <tr>\n",
       "      <th>0</th>\n",
       "      <td>-112.087098</td>\n",
       "      <td>33.494240</td>\n",
       "      <td>Phoenix</td>\n",
       "      <td>10  NORTH AMERICAN DESERTS</td>\n",
       "      <td>10.2  WARM DESERTS</td>\n",
       "      <td>10.2.2  Sonoran Desert</td>\n",
       "    </tr>\n",
       "    <tr>\n",
       "      <th>1</th>\n",
       "      <td>-111.571956</td>\n",
       "      <td>35.184261</td>\n",
       "      <td>Flagstaff</td>\n",
       "      <td>13  TEMPERATE SIERRAS</td>\n",
       "      <td>13.1  UPPER GILA MOUNTAINS</td>\n",
       "      <td>13.1.1  Arizona/New Mexico Mountains</td>\n",
       "    </tr>\n",
       "    <tr>\n",
       "      <th>2</th>\n",
       "      <td>-109.645012</td>\n",
       "      <td>33.958546</td>\n",
       "      <td>Greer</td>\n",
       "      <td>13  TEMPERATE SIERRAS</td>\n",
       "      <td>13.1  UPPER GILA MOUNTAINS</td>\n",
       "      <td>13.1.1  Arizona/New Mexico Mountains</td>\n",
       "    </tr>\n",
       "    <tr>\n",
       "      <th>3</th>\n",
       "      <td>-111.677144</td>\n",
       "      <td>35.349852</td>\n",
       "      <td>Mt. Humphrey</td>\n",
       "      <td>13  TEMPERATE SIERRAS</td>\n",
       "      <td>13.1  UPPER GILA MOUNTAINS</td>\n",
       "      <td>13.1.1  Arizona/New Mexico Mountains</td>\n",
       "    </tr>\n",
       "    <tr>\n",
       "      <th>4</th>\n",
       "      <td>-105.577735</td>\n",
       "      <td>42.878875</td>\n",
       "      <td>E. Iowa</td>\n",
       "      <td>9  GREAT PLAINS</td>\n",
       "      <td>9.3  WEST-CENTRAL SEMIARID PRAIRIES</td>\n",
       "      <td>9.3.3  Northwestern Great Plains</td>\n",
       "    </tr>\n",
       "  </tbody>\n",
       "</table>\n",
       "</div>"
      ],
      "text/plain": [
       "         long        lat      Location                     Level_1  \\\n",
       "0 -112.087098  33.494240       Phoenix  10  NORTH AMERICAN DESERTS   \n",
       "1 -111.571956  35.184261     Flagstaff       13  TEMPERATE SIERRAS   \n",
       "2 -109.645012  33.958546         Greer       13  TEMPERATE SIERRAS   \n",
       "3 -111.677144  35.349852  Mt. Humphrey       13  TEMPERATE SIERRAS   \n",
       "4 -105.577735  42.878875       E. Iowa             9  GREAT PLAINS   \n",
       "\n",
       "                               Level_2                               Level_3  \n",
       "0                   10.2  WARM DESERTS                10.2.2  Sonoran Desert  \n",
       "1           13.1  UPPER GILA MOUNTAINS  13.1.1  Arizona/New Mexico Mountains  \n",
       "2           13.1  UPPER GILA MOUNTAINS  13.1.1  Arizona/New Mexico Mountains  \n",
       "3           13.1  UPPER GILA MOUNTAINS  13.1.1  Arizona/New Mexico Mountains  \n",
       "4  9.3  WEST-CENTRAL SEMIARID PRAIRIES      9.3.3  Northwestern Great Plains  "
      ]
     },
     "execution_count": 5,
     "metadata": {},
     "output_type": "execute_result"
    }
   ],
   "source": [
    "testdf.head()"
   ]
  },
  {
   "cell_type": "markdown",
   "id": "0557421c-93d7-4c03-8cae-955471fb12f3",
   "metadata": {},
   "source": [
    "# Labeling data "
   ]
  },
  {
   "cell_type": "code",
   "execution_count": 6,
   "id": "f4ce19f3-f33d-4e75-b82a-a7204e4c3ca7",
   "metadata": {},
   "outputs": [
    {
     "data": {
      "text/plain": [
       "(481631, 119)"
      ]
     },
     "execution_count": 6,
     "metadata": {},
     "output_type": "execute_result"
    }
   ],
   "source": [
    "data_path = r\"C:\\Users\\matta\\Desktop\\Documents\\Python\\Geolocation\\climate_data\\working_data\\climate_data.pkl\"\n",
    "df = pd.read_pickle(data_path)\n",
    "df.shape"
   ]
  },
  {
   "cell_type": "code",
   "execution_count": 7,
   "id": "da18d42b-f43e-42d2-b696-030fcf8788b4",
   "metadata": {},
   "outputs": [
    {
     "data": {
      "text/html": [
       "<div>\n",
       "<style scoped>\n",
       "    .dataframe tbody tr th:only-of-type {\n",
       "        vertical-align: middle;\n",
       "    }\n",
       "\n",
       "    .dataframe tbody tr th {\n",
       "        vertical-align: top;\n",
       "    }\n",
       "\n",
       "    .dataframe thead th {\n",
       "        text-align: right;\n",
       "    }\n",
       "</style>\n",
       "<table border=\"1\" class=\"dataframe\">\n",
       "  <thead>\n",
       "    <tr style=\"text-align: right;\">\n",
       "      <th></th>\n",
       "      <th>latitude</th>\n",
       "      <th>longitude</th>\n",
       "    </tr>\n",
       "  </thead>\n",
       "  <tbody>\n",
       "    <tr>\n",
       "      <th>0</th>\n",
       "      <td>49.416667</td>\n",
       "      <td>-95.125000</td>\n",
       "    </tr>\n",
       "    <tr>\n",
       "      <th>1</th>\n",
       "      <td>49.375000</td>\n",
       "      <td>-95.166667</td>\n",
       "    </tr>\n",
       "    <tr>\n",
       "      <th>2</th>\n",
       "      <td>49.375000</td>\n",
       "      <td>-95.125000</td>\n",
       "    </tr>\n",
       "    <tr>\n",
       "      <th>3</th>\n",
       "      <td>49.375000</td>\n",
       "      <td>-95.083333</td>\n",
       "    </tr>\n",
       "    <tr>\n",
       "      <th>4</th>\n",
       "      <td>49.375000</td>\n",
       "      <td>-95.041667</td>\n",
       "    </tr>\n",
       "  </tbody>\n",
       "</table>\n",
       "</div>"
      ],
      "text/plain": [
       "    latitude  longitude\n",
       "0  49.416667 -95.125000\n",
       "1  49.375000 -95.166667\n",
       "2  49.375000 -95.125000\n",
       "3  49.375000 -95.083333\n",
       "4  49.375000 -95.041667"
      ]
     },
     "execution_count": 7,
     "metadata": {},
     "output_type": "execute_result"
    }
   ],
   "source": [
    "df[['latitude', 'longitude']].head()"
   ]
  },
  {
   "cell_type": "code",
   "execution_count": 8,
   "id": "ce570b8e-a14f-45e5-9d99-03aa257e5686",
   "metadata": {},
   "outputs": [
    {
     "data": {
      "text/plain": [
       "(481631, 122)"
      ]
     },
     "execution_count": 8,
     "metadata": {},
     "output_type": "execute_result"
    }
   ],
   "source": [
    "# Convert lat/long to a GeoDataFrame of points\n",
    "points_gdf = gpd.GeoDataFrame(\n",
    "    df,\n",
    "    geometry=gpd.points_from_xy(df[\"longitude\"], df[\"latitude\"]),\n",
    "    crs=NA3.crs)   # use same CRS as NA3\n",
    "\n",
    "# Spatial join: assigns polygon attributes to each point\n",
    "joined = gpd.sjoin(points_gdf, NA3[[\"NA_L1KEY\", \"NA_L2KEY\", \"NA_L3KEY\", \"geometry\"]], how=\"left\", predicate=\"within\")\n",
    "\n",
    "df[[\"Level_1\", \"Level_2\", \"Level_3\"]] = joined[[\"NA_L1KEY\", \"NA_L2KEY\", \"NA_L3KEY\"]]\n",
    "\n",
    "df.shape"
   ]
  },
  {
   "cell_type": "code",
   "execution_count": 9,
   "id": "76bc080b-df40-40d3-b412-27273951ba62",
   "metadata": {},
   "outputs": [
    {
     "name": "stdout",
     "output_type": "stream",
     "text": [
      "<class 'pandas.core.frame.DataFrame'>\n",
      "RangeIndex: 481631 entries, 0 to 481630\n",
      "Data columns (total 5 columns):\n",
      " #   Column     Non-Null Count   Dtype  \n",
      "---  ------     --------------   -----  \n",
      " 0   latitude   481631 non-null  float64\n",
      " 1   longitude  481631 non-null  float64\n",
      " 2   Level_1    475432 non-null  object \n",
      " 3   Level_2    475432 non-null  object \n",
      " 4   Level_3    475432 non-null  object \n",
      "dtypes: float64(2), object(3)\n",
      "memory usage: 18.4+ MB\n"
     ]
    }
   ],
   "source": [
    "df[[\"latitude\", \"longitude\", \"Level_1\", \"Level_2\", \"Level_3\"]].info()"
   ]
  },
  {
   "cell_type": "markdown",
   "id": "c1a527bd-8162-4751-b7e5-13ccd43c55fa",
   "metadata": {},
   "source": [
    "# Level 4 ecoregions"
   ]
  },
  {
   "cell_type": "code",
   "execution_count": 10,
   "id": "dbbc20dc-e656-4094-9fce-51cafa1c0555",
   "metadata": {
    "scrolled": true
   },
   "outputs": [
    {
     "data": {
      "text/html": [
       "<div>\n",
       "<style scoped>\n",
       "    .dataframe tbody tr th:only-of-type {\n",
       "        vertical-align: middle;\n",
       "    }\n",
       "\n",
       "    .dataframe tbody tr th {\n",
       "        vertical-align: top;\n",
       "    }\n",
       "\n",
       "    .dataframe thead th {\n",
       "        text-align: right;\n",
       "    }\n",
       "</style>\n",
       "<table border=\"1\" class=\"dataframe\">\n",
       "  <thead>\n",
       "    <tr style=\"text-align: right;\">\n",
       "      <th></th>\n",
       "      <th>L1_KEY</th>\n",
       "      <th>L2_KEY</th>\n",
       "      <th>L3_KEY</th>\n",
       "      <th>L4_KEY</th>\n",
       "      <th>geometry</th>\n",
       "    </tr>\n",
       "  </thead>\n",
       "  <tbody>\n",
       "    <tr>\n",
       "      <th>0</th>\n",
       "      <td>10  NORTH AMERICAN DESERTS</td>\n",
       "      <td>10.1  COLD DESERTS</td>\n",
       "      <td>10  Columbia Plateau</td>\n",
       "      <td>10a  Channeled Scablands</td>\n",
       "      <td>POLYGON ((-118.96463 47.97667, -118.9681 47.97...</td>\n",
       "    </tr>\n",
       "  </tbody>\n",
       "</table>\n",
       "</div>"
      ],
      "text/plain": [
       "                       L1_KEY              L2_KEY                L3_KEY  \\\n",
       "0  10  NORTH AMERICAN DESERTS  10.1  COLD DESERTS  10  Columbia Plateau   \n",
       "\n",
       "                     L4_KEY                                           geometry  \n",
       "0  10a  Channeled Scablands  POLYGON ((-118.96463 47.97667, -118.9681 47.97...  "
      ]
     },
     "execution_count": 10,
     "metadata": {},
     "output_type": "execute_result"
    }
   ],
   "source": [
    "ecoregions4_path = r\"C:\\Users\\matta\\Desktop\\Documents\\Python\\Geolocation\\climate_data\\working_data\\ecoregions4.parquet\"\n",
    "NA4 = pd.read_parquet(ecoregions4_path, engine=\"pyarrow\")\n",
    "NA4[\"geometry\"] = NA4[\"geometry\"].apply(lambda x: wkb.loads(bytes(x), hex=False))\n",
    "NA4 = gpd.GeoDataFrame(NA4, geometry=\"geometry\")\n",
    "NA4.head(1)"
   ]
  },
  {
   "cell_type": "code",
   "execution_count": 11,
   "id": "7a511c43-6d81-4423-ae30-632750409a94",
   "metadata": {},
   "outputs": [
    {
     "data": {
      "text/plain": [
       "(481631, 126)"
      ]
     },
     "execution_count": 11,
     "metadata": {},
     "output_type": "execute_result"
    }
   ],
   "source": [
    "# Convert lat/long to a GeoDataFrame of points\n",
    "points_gdf = gpd.GeoDataFrame(\n",
    "    df,\n",
    "    geometry=gpd.points_from_xy(df[\"longitude\"], df[\"latitude\"]),\n",
    "    crs=NA3.crs)   # use same CRS as NA3\n",
    "\n",
    "# Spatial join: assigns polygon attributes to each point\n",
    "joined = gpd.sjoin(points_gdf, NA4[[\"L1_KEY\", \"L2_KEY\", \"L3_KEY\", \"L4_KEY\", \"geometry\"]], how=\"left\", predicate=\"within\")\n",
    "\n",
    "df[[\"L1\", \"L2\", \"L3\", \"Level_4\"]] = joined[[\"L1_KEY\", \"L2_KEY\", \"L3_KEY\", \"L4_KEY\"]]\n",
    "\n",
    "df.shape"
   ]
  },
  {
   "cell_type": "code",
   "execution_count": 12,
   "id": "00c1fb9b-1a82-422d-85aa-3156beb8f1d7",
   "metadata": {},
   "outputs": [
    {
     "data": {
      "text/html": [
       "<div>\n",
       "<style scoped>\n",
       "    .dataframe tbody tr th:only-of-type {\n",
       "        vertical-align: middle;\n",
       "    }\n",
       "\n",
       "    .dataframe tbody tr th {\n",
       "        vertical-align: top;\n",
       "    }\n",
       "\n",
       "    .dataframe thead th {\n",
       "        text-align: right;\n",
       "    }\n",
       "</style>\n",
       "<table border=\"1\" class=\"dataframe\">\n",
       "  <thead>\n",
       "    <tr style=\"text-align: right;\">\n",
       "      <th></th>\n",
       "      <th>latitude</th>\n",
       "      <th>longitude</th>\n",
       "      <th>Level_1</th>\n",
       "      <th>Level_2</th>\n",
       "      <th>Level_3</th>\n",
       "      <th>L1</th>\n",
       "      <th>L2</th>\n",
       "      <th>L3</th>\n",
       "      <th>Level_4</th>\n",
       "    </tr>\n",
       "  </thead>\n",
       "  <tbody>\n",
       "    <tr>\n",
       "      <th>377926</th>\n",
       "      <td>34.541667</td>\n",
       "      <td>-100.333333</td>\n",
       "      <td>9  GREAT PLAINS</td>\n",
       "      <td>9.4  SOUTH CENTRAL SEMIARID PRAIRIES</td>\n",
       "      <td>9.4.3  Southwestern Tablelands</td>\n",
       "      <td>9  GREAT PLAINS</td>\n",
       "      <td>9.4  SOUTH CENTRAL SEMI-ARID PRAIRIES</td>\n",
       "      <td>26  Southwestern Tablelands</td>\n",
       "      <td>26c  Caprock Canyons, Badlands, and Breaks</td>\n",
       "    </tr>\n",
       "  </tbody>\n",
       "</table>\n",
       "</div>"
      ],
      "text/plain": [
       "         latitude   longitude          Level_1  \\\n",
       "377926  34.541667 -100.333333  9  GREAT PLAINS   \n",
       "\n",
       "                                     Level_2                         Level_3  \\\n",
       "377926  9.4  SOUTH CENTRAL SEMIARID PRAIRIES  9.4.3  Southwestern Tablelands   \n",
       "\n",
       "                     L1                                     L2  \\\n",
       "377926  9  GREAT PLAINS  9.4  SOUTH CENTRAL SEMI-ARID PRAIRIES   \n",
       "\n",
       "                                 L3  \\\n",
       "377926  26  Southwestern Tablelands   \n",
       "\n",
       "                                           Level_4  \n",
       "377926  26c  Caprock Canyons, Badlands, and Breaks  "
      ]
     },
     "execution_count": 12,
     "metadata": {},
     "output_type": "execute_result"
    }
   ],
   "source": [
    "df[[\"latitude\", \"longitude\", \"Level_1\", \"Level_2\", \"Level_3\", \"L1\", \"L2\", \"L3\", \"Level_4\"]].sample()"
   ]
  },
  {
   "cell_type": "code",
   "execution_count": 13,
   "id": "6c0d45ea-2684-4295-86b4-5e0de2b0afaa",
   "metadata": {},
   "outputs": [
    {
     "name": "stdout",
     "output_type": "stream",
     "text": [
      "<class 'pandas.core.frame.DataFrame'>\n",
      "RangeIndex: 481631 entries, 0 to 481630\n",
      "Data columns (total 9 columns):\n",
      " #   Column     Non-Null Count   Dtype  \n",
      "---  ------     --------------   -----  \n",
      " 0   latitude   481631 non-null  float64\n",
      " 1   longitude  481631 non-null  float64\n",
      " 2   Level_1    475432 non-null  object \n",
      " 3   Level_2    475432 non-null  object \n",
      " 4   Level_3    475432 non-null  object \n",
      " 5   L1         471201 non-null  object \n",
      " 6   L2         471201 non-null  object \n",
      " 7   L3         471201 non-null  object \n",
      " 8   Level_4    471201 non-null  object \n",
      "dtypes: float64(2), object(7)\n",
      "memory usage: 33.1+ MB\n"
     ]
    }
   ],
   "source": [
    "df[[\"latitude\", \"longitude\", \"Level_1\", \"Level_2\", \"Level_3\", \"L1\", \"L2\", \"L3\", \"Level_4\"]].info()"
   ]
  },
  {
   "cell_type": "markdown",
   "id": "72b347ea-0683-49d1-9953-b2f4f614af5d",
   "metadata": {},
   "source": [
    "# WWF ecoregions"
   ]
  },
  {
   "cell_type": "code",
   "execution_count": 14,
   "id": "2997224f-8ac3-4964-91cf-3ecc38675662",
   "metadata": {},
   "outputs": [],
   "source": [
    "def load_geometry(val):\n",
    "    if isinstance(val, bytes) or isinstance(val, memoryview):\n",
    "        # Binary WKB\n",
    "        return wkb.loads(bytes(val), hex=False)\n",
    "    elif isinstance(val, str):\n",
    "        # Text-based WKT\n",
    "        return wkt.loads(val)\n",
    "    else:\n",
    "        return None "
   ]
  },
  {
   "cell_type": "code",
   "execution_count": 15,
   "id": "404fa476-c700-485d-a94b-96a1ce6e7d4d",
   "metadata": {},
   "outputs": [
    {
     "data": {
      "text/html": [
       "<div>\n",
       "<style scoped>\n",
       "    .dataframe tbody tr th:only-of-type {\n",
       "        vertical-align: middle;\n",
       "    }\n",
       "\n",
       "    .dataframe tbody tr th {\n",
       "        vertical-align: top;\n",
       "    }\n",
       "\n",
       "    .dataframe thead th {\n",
       "        text-align: right;\n",
       "    }\n",
       "</style>\n",
       "<table border=\"1\" class=\"dataframe\">\n",
       "  <thead>\n",
       "    <tr style=\"text-align: right;\">\n",
       "      <th></th>\n",
       "      <th>Unnamed: 0</th>\n",
       "      <th>OBJECTID</th>\n",
       "      <th>AREA</th>\n",
       "      <th>PERIMETER</th>\n",
       "      <th>ECO_NAME</th>\n",
       "      <th>REALM</th>\n",
       "      <th>BIOME</th>\n",
       "      <th>ECO_NUM</th>\n",
       "      <th>ECO_ID</th>\n",
       "      <th>ECO_SYM</th>\n",
       "      <th>...</th>\n",
       "      <th>G200_BIOME</th>\n",
       "      <th>G200_STAT</th>\n",
       "      <th>Shape_Leng</th>\n",
       "      <th>Shape_Area</th>\n",
       "      <th>area_km2</th>\n",
       "      <th>eco_code</th>\n",
       "      <th>PER_area</th>\n",
       "      <th>PER_area_1</th>\n",
       "      <th>PER_area_2</th>\n",
       "      <th>geometry</th>\n",
       "    </tr>\n",
       "  </thead>\n",
       "  <tbody>\n",
       "    <tr>\n",
       "      <th>0</th>\n",
       "      <td>0</td>\n",
       "      <td>1</td>\n",
       "      <td>29.802942</td>\n",
       "      <td>0.219</td>\n",
       "      <td>Northern Mesoamerican Pacific mangroves</td>\n",
       "      <td>NT</td>\n",
       "      <td>14.0</td>\n",
       "      <td>4.0</td>\n",
       "      <td>61404.0</td>\n",
       "      <td>119.0</td>\n",
       "      <td>...</td>\n",
       "      <td>0.0</td>\n",
       "      <td>0.0</td>\n",
       "      <td>0.219475</td>\n",
       "      <td>0.002769</td>\n",
       "      <td>8174</td>\n",
       "      <td>NT1404</td>\n",
       "      <td>0.0</td>\n",
       "      <td>0.0</td>\n",
       "      <td>0.0</td>\n",
       "      <td>POLYGON ((-112.26972 29.32648, -112.28809 29.3...</td>\n",
       "    </tr>\n",
       "  </tbody>\n",
       "</table>\n",
       "<p>1 rows × 23 columns</p>\n",
       "</div>"
      ],
      "text/plain": [
       "   Unnamed: 0  OBJECTID       AREA  PERIMETER  \\\n",
       "0           0         1  29.802942      0.219   \n",
       "\n",
       "                                  ECO_NAME REALM  BIOME  ECO_NUM   ECO_ID  \\\n",
       "0  Northern Mesoamerican Pacific mangroves    NT   14.0      4.0  61404.0   \n",
       "\n",
       "   ECO_SYM  ...  G200_BIOME G200_STAT  Shape_Leng  Shape_Area  area_km2  \\\n",
       "0    119.0  ...         0.0       0.0    0.219475    0.002769      8174   \n",
       "\n",
       "   eco_code  PER_area  PER_area_1 PER_area_2  \\\n",
       "0    NT1404       0.0         0.0        0.0   \n",
       "\n",
       "                                            geometry  \n",
       "0  POLYGON ((-112.26972 29.32648, -112.28809 29.3...  \n",
       "\n",
       "[1 rows x 23 columns]"
      ]
     },
     "execution_count": 15,
     "metadata": {},
     "output_type": "execute_result"
    }
   ],
   "source": [
    "wwf_path = r\"C:\\Users\\matta\\Desktop\\Documents\\Python\\Geolocation\\climate_data\\working_data\\wwfecos.csv\"\n",
    "wwf = pd.read_csv(wwf_path)\n",
    "wwf[\"geometry\"] = wwf[\"geometry\"].apply(load_geometry)\n",
    "gdf = gpd.GeoDataFrame(wwf, geometry=\"geometry\", crs=\"EPSG:4326\")\n",
    "gdf.head(1)"
   ]
  },
  {
   "cell_type": "code",
   "execution_count": 16,
   "id": "353d5c84-0970-4df7-b8c4-1fdcda56c306",
   "metadata": {},
   "outputs": [],
   "source": [
    "wwf_cols = ['ECO_NAME', 'REALM', 'BIOME', 'ECO_NUM', 'ECO_ID', 'ECO_SYM', \n",
    "            'GBL_STAT', 'G200_REGIO', 'G200_NUM', 'G200_BIOME', 'G200_STAT', \n",
    "            'eco_code', 'geometry']"
   ]
  },
  {
   "cell_type": "code",
   "execution_count": 17,
   "id": "eb40659d-9284-459a-b415-f34057483c3a",
   "metadata": {},
   "outputs": [
    {
     "data": {
      "text/html": [
       "<div>\n",
       "<style scoped>\n",
       "    .dataframe tbody tr th:only-of-type {\n",
       "        vertical-align: middle;\n",
       "    }\n",
       "\n",
       "    .dataframe tbody tr th {\n",
       "        vertical-align: top;\n",
       "    }\n",
       "\n",
       "    .dataframe thead th {\n",
       "        text-align: right;\n",
       "    }\n",
       "</style>\n",
       "<table border=\"1\" class=\"dataframe\">\n",
       "  <thead>\n",
       "    <tr style=\"text-align: right;\">\n",
       "      <th></th>\n",
       "      <th>ECO_NAME</th>\n",
       "      <th>REALM</th>\n",
       "      <th>BIOME</th>\n",
       "      <th>ECO_NUM</th>\n",
       "      <th>ECO_ID</th>\n",
       "      <th>ECO_SYM</th>\n",
       "      <th>GBL_STAT</th>\n",
       "      <th>G200_REGIO</th>\n",
       "      <th>G200_NUM</th>\n",
       "      <th>G200_BIOME</th>\n",
       "      <th>G200_STAT</th>\n",
       "      <th>eco_code</th>\n",
       "      <th>geometry</th>\n",
       "    </tr>\n",
       "  </thead>\n",
       "  <tbody>\n",
       "    <tr>\n",
       "      <th>4598</th>\n",
       "      <td>Kalaallit Nunaat high arctic tundra</td>\n",
       "      <td>NaN</td>\n",
       "      <td>11.0</td>\n",
       "      <td>12.0</td>\n",
       "      <td>51112.0</td>\n",
       "      <td>42.0</td>\n",
       "      <td>3.0</td>\n",
       "      <td>NaN</td>\n",
       "      <td>0.0</td>\n",
       "      <td>0.0</td>\n",
       "      <td>0.0</td>\n",
       "      <td>NA1112</td>\n",
       "      <td>POLYGON ((-22.5 72.44028, -22.54861 72.44486, ...</td>\n",
       "    </tr>\n",
       "  </tbody>\n",
       "</table>\n",
       "</div>"
      ],
      "text/plain": [
       "                                 ECO_NAME REALM  BIOME  ECO_NUM   ECO_ID  \\\n",
       "4598  Kalaallit Nunaat high arctic tundra   NaN   11.0     12.0  51112.0   \n",
       "\n",
       "      ECO_SYM  GBL_STAT G200_REGIO  G200_NUM  G200_BIOME  G200_STAT eco_code  \\\n",
       "4598     42.0       3.0        NaN       0.0         0.0        0.0   NA1112   \n",
       "\n",
       "                                               geometry  \n",
       "4598  POLYGON ((-22.5 72.44028, -22.54861 72.44486, ...  "
      ]
     },
     "execution_count": 17,
     "metadata": {},
     "output_type": "execute_result"
    }
   ],
   "source": [
    "gdf[wwf_cols].sample()"
   ]
  },
  {
   "cell_type": "code",
   "execution_count": 18,
   "id": "50b6cabe-f090-404a-85e0-ffd5b7179904",
   "metadata": {},
   "outputs": [],
   "source": [
    "gdf = gdf[['ECO_NAME', 'geometry']]"
   ]
  },
  {
   "cell_type": "code",
   "execution_count": 19,
   "id": "f3f59558-e81c-4917-a07e-ee4a5c8c96cf",
   "metadata": {
    "scrolled": true
   },
   "outputs": [
    {
     "data": {
      "text/plain": [
       "(481631, 127)"
      ]
     },
     "execution_count": 19,
     "metadata": {},
     "output_type": "execute_result"
    }
   ],
   "source": [
    "# Convert lat/long to a GeoDataFrame of points\n",
    "points_gdf = gpd.GeoDataFrame(\n",
    "    df,\n",
    "    geometry=gpd.points_from_xy(df[\"longitude\"], df[\"latitude\"]),\n",
    "    crs=\"EPSG:4326\")   # use same CRS as NA3\n",
    "\n",
    "# Spatial join: assigns polygon attributes to each point\n",
    "joined = gpd.sjoin(points_gdf, gdf, how=\"left\", predicate=\"within\")\n",
    "df['ECO_NAME'] = joined['ECO_NAME']\n",
    "\n",
    "df.shape"
   ]
  },
  {
   "cell_type": "code",
   "execution_count": 20,
   "id": "10723575-9eb6-4a5d-8164-57f708406fe3",
   "metadata": {},
   "outputs": [
    {
     "name": "stdout",
     "output_type": "stream",
     "text": [
      "<class 'pandas.core.frame.DataFrame'>\n",
      "RangeIndex: 481631 entries, 0 to 481630\n",
      "Data columns (total 10 columns):\n",
      " #   Column     Non-Null Count   Dtype  \n",
      "---  ------     --------------   -----  \n",
      " 0   latitude   481631 non-null  float64\n",
      " 1   longitude  481631 non-null  float64\n",
      " 2   Level_1    475432 non-null  object \n",
      " 3   Level_2    475432 non-null  object \n",
      " 4   Level_3    475432 non-null  object \n",
      " 5   L1         471201 non-null  object \n",
      " 6   L2         471201 non-null  object \n",
      " 7   L3         471201 non-null  object \n",
      " 8   Level_4    471201 non-null  object \n",
      " 9   ECO_NAME   475247 non-null  object \n",
      "dtypes: float64(2), object(8)\n",
      "memory usage: 36.7+ MB\n"
     ]
    }
   ],
   "source": [
    "df[[\"latitude\", \"longitude\", \"Level_1\", \"Level_2\", \"Level_3\", \"L1\", \"L2\", \"L3\", \"Level_4\", \"ECO_NAME\"]].info()"
   ]
  },
  {
   "cell_type": "code",
   "execution_count": 21,
   "id": "a2e02034-d498-4185-8344-ef01d0e93d37",
   "metadata": {},
   "outputs": [
    {
     "name": "stdout",
     "output_type": "stream",
     "text": [
      "<class 'pandas.core.frame.DataFrame'>\n",
      "Index: 470531 entries, 11 to 481597\n",
      "Data columns (total 10 columns):\n",
      " #   Column     Non-Null Count   Dtype  \n",
      "---  ------     --------------   -----  \n",
      " 0   latitude   470531 non-null  float64\n",
      " 1   longitude  470531 non-null  float64\n",
      " 2   Level_1    470531 non-null  object \n",
      " 3   Level_2    470531 non-null  object \n",
      " 4   Level_3    470531 non-null  object \n",
      " 5   L1         470531 non-null  object \n",
      " 6   L2         470531 non-null  object \n",
      " 7   L3         470531 non-null  object \n",
      " 8   Level_4    470531 non-null  object \n",
      " 9   ECO_NAME   470531 non-null  object \n",
      "dtypes: float64(2), object(8)\n",
      "memory usage: 39.5+ MB\n"
     ]
    }
   ],
   "source": [
    "df[[\"latitude\", \"longitude\", \"Level_1\", \"Level_2\", \"Level_3\", \"L1\", \"L2\", \"L3\", \"Level_4\", \"ECO_NAME\"]].dropna().info()"
   ]
  },
  {
   "cell_type": "markdown",
   "id": "cd16c6b1-89e4-4b37-a20e-b41b04fa7ffd",
   "metadata": {},
   "source": [
    "# Koppen geiger climate classes"
   ]
  },
  {
   "cell_type": "code",
   "execution_count": 22,
   "id": "57654706-95d3-4888-b0f0-66341bfbb5cc",
   "metadata": {},
   "outputs": [
    {
     "data": {
      "text/html": [
       "<div>\n",
       "<style scoped>\n",
       "    .dataframe tbody tr th:only-of-type {\n",
       "        vertical-align: middle;\n",
       "    }\n",
       "\n",
       "    .dataframe tbody tr th {\n",
       "        vertical-align: top;\n",
       "    }\n",
       "\n",
       "    .dataframe thead th {\n",
       "        text-align: right;\n",
       "    }\n",
       "</style>\n",
       "<table border=\"1\" class=\"dataframe\">\n",
       "  <thead>\n",
       "    <tr style=\"text-align: right;\">\n",
       "      <th></th>\n",
       "      <th>Unnamed: 0</th>\n",
       "      <th>dn</th>\n",
       "      <th>climates_f</th>\n",
       "      <th>geometry</th>\n",
       "    </tr>\n",
       "  </thead>\n",
       "  <tbody>\n",
       "    <tr>\n",
       "      <th>0</th>\n",
       "      <td>0</td>\n",
       "      <td>31.0</td>\n",
       "      <td>ET</td>\n",
       "      <td>POLYGON ((-37 83.75, -36.75 83.75, -36.75 83.5...</td>\n",
       "    </tr>\n",
       "  </tbody>\n",
       "</table>\n",
       "</div>"
      ],
      "text/plain": [
       "   Unnamed: 0    dn climates_f  \\\n",
       "0           0  31.0         ET   \n",
       "\n",
       "                                            geometry  \n",
       "0  POLYGON ((-37 83.75, -36.75 83.75, -36.75 83.5...  "
      ]
     },
     "execution_count": 22,
     "metadata": {},
     "output_type": "execute_result"
    }
   ],
   "source": [
    "kg_path = r\"C:\\Users\\matta\\Desktop\\Documents\\Python\\Geolocation\\climate_data\\working_data\\koppen_geiger.csv\"\n",
    "kg = pd.read_csv(kg_path)\n",
    "kg[\"geometry\"] = kg[\"geometry\"].apply(load_geometry)\n",
    "kgdf = gpd.GeoDataFrame(kg, geometry=\"geometry\", crs=\"EPSG:4326\")\n",
    "kgdf.head(1)"
   ]
  },
  {
   "cell_type": "code",
   "execution_count": 23,
   "id": "11b80369-be84-466b-b509-647ec4f30c59",
   "metadata": {},
   "outputs": [
    {
     "data": {
      "text/plain": [
       "(481631, 129)"
      ]
     },
     "execution_count": 23,
     "metadata": {},
     "output_type": "execute_result"
    }
   ],
   "source": [
    "# Convert lat/long to a GeoDataFrame of points\n",
    "points_gdf = gpd.GeoDataFrame(\n",
    "    df,\n",
    "    geometry=gpd.points_from_xy(df[\"longitude\"], df[\"latitude\"]),\n",
    "    crs=\"EPSG:4326\")   # use same CRS as NA3\n",
    "\n",
    "# Spatial join: assigns polygon attributes to each point\n",
    "joined = gpd.sjoin(points_gdf, kgdf, how=\"left\", predicate=\"within\")\n",
    "df[['climates_f', 'dn']] = joined[['climates_f', 'dn']]\n",
    "\n",
    "df.shape"
   ]
  },
  {
   "cell_type": "code",
   "execution_count": 24,
   "id": "666e14b7-9c83-4735-b961-2687408c3481",
   "metadata": {},
   "outputs": [
    {
     "name": "stdout",
     "output_type": "stream",
     "text": [
      "<class 'pandas.core.frame.DataFrame'>\n",
      "RangeIndex: 481631 entries, 0 to 481630\n",
      "Data columns (total 12 columns):\n",
      " #   Column      Non-Null Count   Dtype  \n",
      "---  ------      --------------   -----  \n",
      " 0   latitude    481631 non-null  float64\n",
      " 1   longitude   481631 non-null  float64\n",
      " 2   Level_1     475432 non-null  object \n",
      " 3   Level_2     475432 non-null  object \n",
      " 4   Level_3     475432 non-null  object \n",
      " 5   L1          471201 non-null  object \n",
      " 6   L2          471201 non-null  object \n",
      " 7   L3          471201 non-null  object \n",
      " 8   Level_4     471201 non-null  object \n",
      " 9   ECO_NAME    475247 non-null  object \n",
      " 10  climates_f  480352 non-null  object \n",
      " 11  dn          481476 non-null  float64\n",
      "dtypes: float64(3), object(9)\n",
      "memory usage: 44.1+ MB\n"
     ]
    }
   ],
   "source": [
    "df[[\"latitude\", \"longitude\", \"Level_1\", \"Level_2\", \"Level_3\", \"L1\", \"L2\", \"L3\", \"Level_4\", \"ECO_NAME\", \"climates_f\", \"dn\"]].info()"
   ]
  },
  {
   "cell_type": "code",
   "execution_count": 25,
   "id": "9729be9d-e719-4980-87a1-bf3f9ec6253e",
   "metadata": {},
   "outputs": [
    {
     "name": "stdout",
     "output_type": "stream",
     "text": [
      "<class 'pandas.core.frame.DataFrame'>\n",
      "Index: 470342 entries, 11 to 481565\n",
      "Data columns (total 12 columns):\n",
      " #   Column      Non-Null Count   Dtype  \n",
      "---  ------      --------------   -----  \n",
      " 0   latitude    470342 non-null  float64\n",
      " 1   longitude   470342 non-null  float64\n",
      " 2   Level_1     470342 non-null  object \n",
      " 3   Level_2     470342 non-null  object \n",
      " 4   Level_3     470342 non-null  object \n",
      " 5   L1          470342 non-null  object \n",
      " 6   L2          470342 non-null  object \n",
      " 7   L3          470342 non-null  object \n",
      " 8   Level_4     470342 non-null  object \n",
      " 9   ECO_NAME    470342 non-null  object \n",
      " 10  climates_f  470342 non-null  object \n",
      " 11  dn          470342 non-null  float64\n",
      "dtypes: float64(3), object(9)\n",
      "memory usage: 46.6+ MB\n"
     ]
    }
   ],
   "source": [
    "df[[\"latitude\", \"longitude\", \"Level_1\", \"Level_2\", \"Level_3\", \"L1\", \"L2\", \"L3\", \"Level_4\", \"ECO_NAME\", \"climates_f\", \"dn\"]].dropna().info()"
   ]
  },
  {
   "cell_type": "code",
   "execution_count": 28,
   "id": "a866213d-6ad9-44d4-b365-a4279192aa76",
   "metadata": {},
   "outputs": [
    {
     "data": {
      "text/plain": [
       "(470342, 129)"
      ]
     },
     "execution_count": 28,
     "metadata": {},
     "output_type": "execute_result"
    }
   ],
   "source": [
    "df.dropna().shape"
   ]
  },
  {
   "cell_type": "markdown",
   "id": "c6679f82-6cd3-4064-ac2c-b78b309cb15b",
   "metadata": {},
   "source": [
    "# Saving dataframe"
   ]
  },
  {
   "cell_type": "code",
   "execution_count": 26,
   "id": "8d7de511-f98f-4cb3-9286-08eebcf72b90",
   "metadata": {},
   "outputs": [],
   "source": [
    "df.to_pickle(r\"C:\\Users\\matta\\Desktop\\Documents\\Python\\Geolocation\\climate_data\\working_data\\labeled_climate_data.pkl\")"
   ]
  },
  {
   "cell_type": "code",
   "execution_count": null,
   "id": "e90d9ac6-8ff6-49a0-9049-e46c962b4e29",
   "metadata": {},
   "outputs": [],
   "source": []
  }
 ],
 "metadata": {
  "kernelspec": {
   "display_name": "Python (geo_env)",
   "language": "python",
   "name": "geo_env"
  },
  "language_info": {
   "codemirror_mode": {
    "name": "ipython",
    "version": 3
   },
   "file_extension": ".py",
   "mimetype": "text/x-python",
   "name": "python",
   "nbconvert_exporter": "python",
   "pygments_lexer": "ipython3",
   "version": "3.13.5"
  },
  "toc": {
   "base_numbering": 1,
   "nav_menu": {},
   "number_sections": true,
   "sideBar": true,
   "skip_h1_title": false,
   "title_cell": "Table of Contents",
   "title_sidebar": "Contents",
   "toc_cell": true,
   "toc_position": {},
   "toc_section_display": true,
   "toc_window_display": false
  }
 },
 "nbformat": 4,
 "nbformat_minor": 5
}
