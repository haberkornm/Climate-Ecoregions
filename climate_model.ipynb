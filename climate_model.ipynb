{
 "cells": [
  {
   "cell_type": "code",
   "execution_count": 1,
   "id": "7e7bba15-e66b-4804-8463-c22488a0c356",
   "metadata": {},
   "outputs": [],
   "source": [
    "import pandas as pd\n",
    "import numpy as np\n",
    "import matplotlib.pyplot as plt\n",
    "from sklearn.model_selection import train_test_split\n",
    "from sklearn.ensemble import RandomForestRegressor\n",
    "from xgboost import XGBRegressor\n",
    "from sklearn.multioutput import MultiOutputRegressor\n",
    "from sklearn.metrics import mean_squared_error, r2_score"
   ]
  },
  {
   "cell_type": "markdown",
   "id": "27738d7f-53b9-4997-8d37-b83fd5009c81",
   "metadata": {},
   "source": [
    "# Load data"
   ]
  },
  {
   "cell_type": "code",
   "execution_count": 2,
   "id": "33f6949a-d1ef-4241-83bc-0a3cb89c2aca",
   "metadata": {},
   "outputs": [
    {
     "data": {
      "text/plain": [
       "(470342, 125)"
      ]
     },
     "execution_count": 2,
     "metadata": {},
     "output_type": "execute_result"
    }
   ],
   "source": [
    "path = r\"C:\\Users\\matta\\Desktop\\Documents\\Python\\Geolocation\\climate_data\\working_data\\clean_labeled_climate_data.pkl\"\n",
    "df = pd.read_pickle(path)\n",
    "df.shape"
   ]
  },
  {
   "cell_type": "code",
   "execution_count": 4,
   "id": "35c7dfd4-3512-4700-9563-6fe1cc7f264d",
   "metadata": {},
   "outputs": [],
   "source": [
    "labels = pd.DataFrame(df[['Level_1', 'Level_2', 'Level_3', 'Level_4', 'ECO_NAME', 'climates_f']])\n",
    "df = df.drop(columns = ['Level_1', 'Level_2', 'Level_3', 'Level_4', 'ECO_NAME', 'climates_f'])"
   ]
  },
  {
   "cell_type": "markdown",
   "id": "19ae2fc8-3607-422a-8de5-e54425524241",
   "metadata": {},
   "source": [
    "# Train test split"
   ]
  },
  {
   "cell_type": "code",
   "execution_count": 7,
   "id": "8e88cb30-0938-45a1-87b1-c23cdc6fb9f5",
   "metadata": {},
   "outputs": [],
   "source": [
    "X = df[['longitude', 'latitude', \n",
    "     'jan_tmin', 'feb_tmin', 'mar_tmin', 'apr_tmin', 'may_tmin', 'jun_tmin', \n",
    "     'jul_tmin', 'aug_tmin', 'sep_tmin', 'oct_tmin', 'nov_tmin', 'dec_tmin', 'annual_tmin', \n",
    "     'jan_meant', 'feb_meant', 'mar_meant', 'apr_meant', 'may_meant', 'jun_meant', \n",
    "     'jul_meant', 'aug_meant', 'sep_meant', 'oct_meant', 'nov_meant', 'dec_meant', 'annual_meant', \n",
    "     'jan_maxt', 'feb_maxt', 'mar_maxt', 'apr_maxt', 'may_maxt', 'jun_maxt', 'jul_maxt', \n",
    "     'aug_maxt', 'sep_maxt', 'oct_maxt', 'nov_maxt', 'dec_maxt', 'annual_maxt']]\n",
    "\n",
    "y = df[['jan_dptmean', 'feb_dptmean', 'mar_dptmean', 'apr_dptmean', 'may_dptmean', 'jun_dptmean', \n",
    "     'jul_dptmean', 'aug_dptmean', 'sep_dptmean', 'oct_dptmean', 'nov_dptmean', 'dec_dptmean', 'annual_dptmean',\n",
    "     'jan_precip', 'feb_precip', 'mar_precip', 'apr_precip', 'may_precip', 'jun_precip', \n",
    "     'jul_precip', 'aug_precip', 'sep_precip', 'oct_precip', 'nov_precip', 'dec_precip', 'annual_precip', \n",
    "     'jan_vpdmax', 'feb_vpdmax', 'mar_vpdmax', 'apr_vpdmax', 'may_vpdmax', 'jun_vpdmax', \n",
    "     'jul_vpdmax', 'aug_vpdmax', 'sep_vpdmax', 'oct_vpdmax', 'nov_vpdmax', 'dec_vpdmax', 'annual_vpdmax', \n",
    "     'jan_vpdmin', 'feb_vpdmin', 'mar_vpdmin', 'apr_vpdmin', 'may_vpdmin', 'jun_vpdmin', \n",
    "     'jul_vpdmin', 'aug_vpdmin', 'sep_vpdmin', 'oct_vpdmin', 'nov_vpdmin', 'dec_vpdmin', 'annual_vpdmin']]"
   ]
  },
  {
   "cell_type": "code",
   "execution_count": 8,
   "id": "61539981-3644-403f-8336-889163e0389f",
   "metadata": {},
   "outputs": [],
   "source": [
    "X_train, X_test, Y_train, Y_test = train_test_split(X, y, test_size=0.2)"
   ]
  },
  {
   "cell_type": "markdown",
   "id": "29d3f174-cc16-44d8-9a56-a9ce662ae2fb",
   "metadata": {},
   "source": [
    "# Modeling"
   ]
  },
  {
   "cell_type": "markdown",
   "id": "9c08b9ee-ee0f-47c4-8b7a-8155e945bbcb",
   "metadata": {},
   "source": [
    "## Random forest"
   ]
  },
  {
   "cell_type": "code",
   "execution_count": null,
   "id": "723bf3c6-fd44-451f-95fa-4cab7a1e0661",
   "metadata": {},
   "outputs": [],
   "source": [
    "rfr = MultiOutputRegressor(RandomForestRegressor(n_estimators=200, max_depth=12, n_jobs=-1))\n",
    "\n",
    "rfr.fit(X_train, Y_train)"
   ]
  },
  {
   "cell_type": "code",
   "execution_count": null,
   "id": "06684505-ddc9-4966-a2df-6f680d322654",
   "metadata": {},
   "outputs": [],
   "source": [
    "Y_pred = model.predict(X_test)\n",
    "Y_pred = pd.DataFrame(Y_pred, columns=y.columns)"
   ]
  },
  {
   "cell_type": "code",
   "execution_count": null,
   "id": "f944265d-edf7-4355-9908-41898c6e54dc",
   "metadata": {},
   "outputs": [],
   "source": [
    "metrics = {}\n",
    "\n",
    "for col in y.columns:\n",
    "    rmse = np.sqrt(mean_squared_error(Y_test[col], Y_pred[col]))\n",
    "    r2 = r2_score(Y_test[col], Y_pred[col])\n",
    "    metrics[col] = {'RMSE': rmse, 'R²': r2}\n",
    "\n",
    "metrics_df = pd.DataFrame(metrics).T\n",
    "print(metrics_df)"
   ]
  },
  {
   "cell_type": "markdown",
   "id": "627700c1-ac68-4b2b-8c8d-5da87a8bc8d5",
   "metadata": {},
   "source": [
    "## XGBoost"
   ]
  },
  {
   "cell_type": "code",
   "execution_count": null,
   "id": "72460071-4e6a-4150-8af9-980325bde560",
   "metadata": {},
   "outputs": [],
   "source": [
    "xgb_model = MultiOutputRegressor(XGBRegressor())\n",
    "xgb_model.fit(X_train, Y_train)"
   ]
  },
  {
   "cell_type": "code",
   "execution_count": null,
   "id": "1669bd8d-6738-4972-96d1-ca6ab125b452",
   "metadata": {},
   "outputs": [],
   "source": [
    "Y_pred = pd.DataFrame(xgb_model.predict(X_test), columns=y.columns)\n",
    "\n",
    "metrics = {}\n",
    "for col in y.columns:\n",
    "    rmse = np.sqrt(mean_squared_error(Y_test[col], Y_pred[col]))\n",
    "    r2 = r2_score(Y_test[col], Y_pred[col])\n",
    "    metrics[col] = {'RMSE': rmse, 'R²': r2}\n",
    "\n",
    "metrics_df = pd.DataFrame(metrics).T\n",
    "print(metrics_df)"
   ]
  },
  {
   "cell_type": "code",
   "execution_count": null,
   "id": "f3fa59c3-1165-413b-b36c-a4b02b2f719d",
   "metadata": {},
   "outputs": [],
   "source": []
  }
 ],
 "metadata": {
  "kernelspec": {
   "display_name": "Python 3 (ipykernel)",
   "language": "python",
   "name": "python3"
  },
  "language_info": {
   "codemirror_mode": {
    "name": "ipython",
    "version": 3
   },
   "file_extension": ".py",
   "mimetype": "text/x-python",
   "name": "python",
   "nbconvert_exporter": "python",
   "pygments_lexer": "ipython3",
   "version": "3.12.5"
  }
 },
 "nbformat": 4,
 "nbformat_minor": 5
}
